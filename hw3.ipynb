{
 "cells": [
  {
   "cell_type": "markdown",
   "metadata": {},
   "source": [
    "## Homework 3 \n",
    "by Jordan Ehrman \n",
    "ehrmanj@uw.edu"
   ]
  },
  {
   "cell_type": "markdown",
   "metadata": {},
   "source": [
    "# Question 1"
   ]
  },
  {
   "cell_type": "markdown",
   "metadata": {},
   "source": [
    "Here, I will attempt to write up a Gram-Schmidt orthogonalization algorithm. That is, I will define a function that takes in a matrix and returns two matrices: a Q matrix, which is orthonormal, and an R matrix, which is upper triangular. In order to orthogonalize a given matrix, I will do the Gram-Schmidt orthogonalization, which I will attempt to do by hand in the following few cells. "
   ]
  },
  {
   "cell_type": "code",
   "execution_count": 311,
   "metadata": {},
   "outputs": [],
   "source": [
    "import copy"
   ]
  },
  {
   "cell_type": "code",
   "execution_count": 269,
   "metadata": {},
   "outputs": [],
   "source": [
    "testmat = (np.random.rand(3,3) * 100).astype(int)"
   ]
  },
  {
   "cell_type": "code",
   "execution_count": 270,
   "metadata": {},
   "outputs": [
    {
     "data": {
      "text/plain": [
       "array([[16, 67, 70],\n",
       "       [30, 43, 63],\n",
       "       [74, 57, 17]])"
      ]
     },
     "execution_count": 270,
     "metadata": {},
     "output_type": "execute_result"
    }
   ],
   "source": [
    "testmat"
   ]
  },
  {
   "cell_type": "code",
   "execution_count": 279,
   "metadata": {},
   "outputs": [
    {
     "data": {
      "text/plain": [
       "9.857341183636134"
      ]
     },
     "execution_count": 279,
     "metadata": {},
     "output_type": "execute_result"
    }
   ],
   "source": [
    "np.linalg.cond(testmat)"
   ]
  },
  {
   "cell_type": "markdown",
   "metadata": {},
   "source": [
    "## scratch space for finding out orthogonalization\n",
    "Here I am going to try to do a Gram-Schmidt Orthogonalization without any fancy loops or generalization, just on the testmatrix I defined above. Then, I'll write up my function that I will do comparisons with. "
   ]
  },
  {
   "cell_type": "code",
   "execution_count": 271,
   "metadata": {},
   "outputs": [
    {
     "name": "stdout",
     "output_type": "stream",
     "text": [
      "[[16.  0.  0.]\n",
      " [30.  0.  0.]\n",
      " [74.  0.  0.]]\n"
     ]
    }
   ],
   "source": [
    "Q = np.zeros((3,3))\n",
    "Q[:,0] = testmat.T[0]\n",
    "print(Q)"
   ]
  },
  {
   "cell_type": "code",
   "execution_count": 283,
   "metadata": {},
   "outputs": [],
   "source": [
    "newvec = testmat.T[1] - (Q.T[0].dot(testmat.T[1]) / Q.T[0].dot(Q.T[0]))*Q.T[0]"
   ]
  },
  {
   "cell_type": "code",
   "execution_count": 284,
   "metadata": {},
   "outputs": [
    {
     "data": {
      "text/plain": [
       "2.2737367544323206e-13"
      ]
     },
     "execution_count": 284,
     "metadata": {},
     "output_type": "execute_result"
    }
   ],
   "source": [
    "newvec.dot(Q.T[0])"
   ]
  },
  {
   "cell_type": "code",
   "execution_count": 285,
   "metadata": {},
   "outputs": [],
   "source": [
    "Q[:,1] = newvec"
   ]
  },
  {
   "cell_type": "code",
   "execution_count": 286,
   "metadata": {},
   "outputs": [],
   "source": [
    "newervec = testmat.T[2] - (Q.T[0].dot(testmat.T[2]) / Q.T[0].dot(Q.T[0]))*Q.T[0] - (Q.T[1].dot(testmat.T[2]) / Q.T[1].dot(Q.T[1]))*Q.T[1]"
   ]
  },
  {
   "cell_type": "code",
   "execution_count": 287,
   "metadata": {},
   "outputs": [
    {
     "data": {
      "text/plain": [
       "1.7053025658242404e-13"
      ]
     },
     "execution_count": 287,
     "metadata": {},
     "output_type": "execute_result"
    }
   ],
   "source": [
    "newervec.dot(Q.T[1])"
   ]
  },
  {
   "cell_type": "code",
   "execution_count": 288,
   "metadata": {},
   "outputs": [
    {
     "data": {
      "text/plain": [
       "2.2737367544323206e-13"
      ]
     },
     "execution_count": 288,
     "metadata": {},
     "output_type": "execute_result"
    }
   ],
   "source": [
    "newervec.dot(Q.T[0])"
   ]
  },
  {
   "cell_type": "code",
   "execution_count": 294,
   "metadata": {},
   "outputs": [],
   "source": [
    "Q[:,2] = newervec"
   ]
  },
  {
   "cell_type": "code",
   "execution_count": 295,
   "metadata": {},
   "outputs": [
    {
     "data": {
      "text/plain": [
       "array([[1.00000000e+00, 4.32345265e-17, 2.61938239e-15],\n",
       "       [4.32345265e-17, 1.00000000e+00, 1.85286790e-15],\n",
       "       [2.61938239e-15, 1.85286790e-15, 8.25268068e+02]])"
      ]
     },
     "execution_count": 295,
     "metadata": {},
     "output_type": "execute_result"
    }
   ],
   "source": [
    "Q.T.dot(Q)"
   ]
  },
  {
   "cell_type": "markdown",
   "metadata": {},
   "source": [
    "so this matrix is orthogonal, but I need to also make it normal, so now I will normalize it. "
   ]
  },
  {
   "cell_type": "code",
   "execution_count": 296,
   "metadata": {},
   "outputs": [],
   "source": [
    "for i in range(3):\n",
    "    Q[:,i] = Q[:,i] / np.linalg.norm(Q.T[i])"
   ]
  },
  {
   "cell_type": "code",
   "execution_count": 301,
   "metadata": {},
   "outputs": [
    {
     "name": "stdout",
     "output_type": "stream",
     "text": [
      "1.0\n",
      "1.0\n",
      "1.0\n"
     ]
    }
   ],
   "source": [
    "for i in range(3):\n",
    "    print(np.linalg.norm(Q.T[i]))"
   ]
  },
  {
   "cell_type": "code",
   "execution_count": 302,
   "metadata": {},
   "outputs": [
    {
     "data": {
      "text/plain": [
       "array([[1.00000000e+00, 4.32345265e-17, 6.37683635e-17],\n",
       "       [4.32345265e-17, 1.00000000e+00, 1.22878958e-16],\n",
       "       [6.37683635e-17, 1.22878958e-16, 1.00000000e+00]])"
      ]
     },
     "execution_count": 302,
     "metadata": {},
     "output_type": "execute_result"
    }
   ],
   "source": [
    "Q.T.dot(Q)"
   ]
  },
  {
   "cell_type": "markdown",
   "metadata": {},
   "source": [
    "So now Q is orthonormal! Exciting. Now I will look for matrix R, which I can find by taking the transpose of Q and dotting it with the original matrix. If I did everything right, R will be top-triangular, and multiplying Q by R will then give me back the original matrix. "
   ]
  },
  {
   "cell_type": "code",
   "execution_count": 304,
   "metadata": {},
   "outputs": [],
   "source": [
    "R = Q.T.dot(testmat)"
   ]
  },
  {
   "cell_type": "code",
   "execution_count": 307,
   "metadata": {},
   "outputs": [
    {
     "data": {
      "text/plain": [
       "array([[8.14370923e+01, 8.07985626e+01, 5.24085509e+01],\n",
       "       [2.88657986e-15, 5.53045412e+01, 7.47400543e+01],\n",
       "       [6.43929354e-15, 8.99280650e-15, 2.87274793e+01]])"
      ]
     },
     "execution_count": 307,
     "metadata": {},
     "output_type": "execute_result"
    }
   ],
   "source": [
    "R"
   ]
  },
  {
   "cell_type": "code",
   "execution_count": 306,
   "metadata": {},
   "outputs": [
    {
     "data": {
      "text/plain": [
       "array([[16., 67., 70.],\n",
       "       [30., 43., 63.],\n",
       "       [74., 57., 17.]])"
      ]
     },
     "execution_count": 306,
     "metadata": {},
     "output_type": "execute_result"
    }
   ],
   "source": [
    "Q.dot(R)"
   ]
  },
  {
   "cell_type": "markdown",
   "metadata": {},
   "source": [
    "Cool! Looks like everything we did so far was right. Now I just need to take this formula, generalize it, and make it into a function. \n",
    "# making my function"
   ]
  },
  {
   "cell_type": "code",
   "execution_count": 361,
   "metadata": {},
   "outputs": [],
   "source": [
    "def qrfactorization(A): \n",
    "    # getting dimensions of incoming matrix\n",
    "    initmat = copy.deepcopy(A)\n",
    "    m,n = A.shape\n",
    "    # initializing Q\n",
    "    Q = np.zeros((m,n)).astype(float)\n",
    "    # setting first vector of q to be equal to first vector of A\n",
    "    Q[:,0] = A.T[0]\n",
    "    # now starting the orthogonalization process\n",
    "    for i in range(1,n):\n",
    "        tempinitvec = A.T[i].astype(float)\n",
    "        for j in range (0,i):\n",
    "            tempqvec = Q[:,j]\n",
    "            projqamag = tempinitvec.dot(tempqvec) / tempqvec.dot(tempqvec)\n",
    "            tempinitvec -= float(projqamag)*tempqvec.astype(float)\n",
    "        Q[:,i] = tempinitvec\n",
    "    # now starting the normalization process\n",
    "    for i in range(n):\n",
    "        Q[:,i] = Q[:,i] / np.linalg.norm(Q[:,i])\n",
    "    # now finding R\n",
    "    R = Q.T.dot(initmat)\n",
    "    # now returning \n",
    "    return(Q,R)"
   ]
  },
  {
   "cell_type": "code",
   "execution_count": 346,
   "metadata": {},
   "outputs": [
    {
     "name": "stdout",
     "output_type": "stream",
     "text": [
      "3   3\n",
      "i: 1\n",
      "j: 0\n",
      "i: 2\n",
      "j: 0\n",
      "j: 1\n"
     ]
    }
   ],
   "source": [
    "testq,testr = qrfactorization(testmat)"
   ]
  },
  {
   "cell_type": "code",
   "execution_count": 351,
   "metadata": {},
   "outputs": [
    {
     "data": {
      "text/plain": [
       "array([[ 0.19647067,  0.92443498, -0.32683214],\n",
       "       [ 0.3683825 ,  0.23931531,  0.89834432],\n",
       "       [ 0.90867684, -0.29689755, -0.29352723]])"
      ]
     },
     "execution_count": 351,
     "metadata": {},
     "output_type": "execute_result"
    }
   ],
   "source": [
    "testq"
   ]
  },
  {
   "cell_type": "code",
   "execution_count": 352,
   "metadata": {},
   "outputs": [
    {
     "data": {
      "text/plain": [
       "array([[8.14370923e+01, 8.07985626e+01, 5.24085509e+01],\n",
       "       [3.44169138e-15, 5.53045412e+01, 7.47400543e+01],\n",
       "       [6.43929354e-15, 8.99280650e-15, 2.87274793e+01]])"
      ]
     },
     "execution_count": 352,
     "metadata": {},
     "output_type": "execute_result"
    }
   ],
   "source": [
    "testr"
   ]
  },
  {
   "cell_type": "code",
   "execution_count": 353,
   "metadata": {},
   "outputs": [
    {
     "data": {
      "text/plain": [
       "array([[ 1.00000000e+00,  1.20944934e-16, -6.19051912e-18],\n",
       "       [ 1.20944934e-16,  1.00000000e+00,  2.65825221e-18],\n",
       "       [-6.19051912e-18,  2.65825221e-18,  1.00000000e+00]])"
      ]
     },
     "execution_count": 353,
     "metadata": {},
     "output_type": "execute_result"
    }
   ],
   "source": [
    "testq.dot(testq.T)"
   ]
  },
  {
   "cell_type": "code",
   "execution_count": 354,
   "metadata": {},
   "outputs": [
    {
     "data": {
      "text/plain": [
       "array([[16., 67., 70.],\n",
       "       [30., 43., 63.],\n",
       "       [74., 57., 17.]])"
      ]
     },
     "execution_count": 354,
     "metadata": {},
     "output_type": "execute_result"
    }
   ],
   "source": [
    "testq.dot(testr)"
   ]
  },
  {
   "cell_type": "markdown",
   "metadata": {},
   "source": [
    "So, my function gives an orthonormal q matrix and an uppder triangular R matrix that, when multiplied together, gives back the original matrix. That's a QR decomp! Let's try it out on some more testmatrices. "
   ]
  },
  {
   "cell_type": "code",
   "execution_count": 376,
   "metadata": {},
   "outputs": [
    {
     "name": "stdout",
     "output_type": "stream",
     "text": [
      "is i greater than or equal to j? True\n",
      "should be I: True\n",
      "should be true: True\n",
      "should be true: True\n",
      "is i greater than or equal to j? False\n",
      "should be I: False\n",
      "should be true: False\n",
      "should be true: False\n",
      "is i greater than or equal to j? False\n",
      "should be I: False\n",
      "should be true: False\n",
      "should be true: False\n",
      "is i greater than or equal to j? False\n",
      "should be I: False\n",
      "should be true: False\n",
      "should be true: False\n",
      "is i greater than or equal to j? False\n",
      "should be I: False\n",
      "should be true: False\n",
      "should be true: False\n",
      "is i greater than or equal to j? False\n",
      "should be I: False\n",
      "should be true: False\n",
      "should be true: False\n",
      "is i greater than or equal to j? False\n",
      "should be I: False\n",
      "should be true: False\n",
      "should be true: False\n",
      "is i greater than or equal to j? False\n",
      "should be I: False\n",
      "should be true: False\n",
      "should be true: False\n",
      "is i greater than or equal to j? False\n",
      "should be I: False\n",
      "should be true: False\n",
      "should be true: False\n",
      "is i greater than or equal to j? True\n",
      "should be I: True\n",
      "should be true: True\n",
      "should be true: True\n",
      "is i greater than or equal to j? True\n",
      "should be I: True\n",
      "should be true: True\n",
      "should be true: True\n",
      "is i greater than or equal to j? False\n",
      "should be I: False\n",
      "should be true: False\n",
      "should be true: False\n",
      "is i greater than or equal to j? False\n",
      "should be I: False\n",
      "should be true: False\n",
      "should be true: False\n",
      "is i greater than or equal to j? False\n",
      "should be I: False\n",
      "should be true: False\n",
      "should be true: False\n",
      "is i greater than or equal to j? False\n",
      "should be I: False\n",
      "should be true: False\n",
      "should be true: False\n",
      "is i greater than or equal to j? False\n",
      "should be I: False\n",
      "should be true: False\n",
      "should be true: False\n",
      "is i greater than or equal to j? False\n",
      "should be I: False\n",
      "should be true: False\n",
      "should be true: False\n",
      "is i greater than or equal to j? False\n",
      "should be I: False\n",
      "should be true: False\n",
      "should be true: False\n",
      "is i greater than or equal to j? True\n",
      "should be I: True\n",
      "should be true: True\n",
      "should be true: True\n",
      "is i greater than or equal to j? True\n",
      "should be I: True\n",
      "should be true: True\n",
      "should be true: True\n",
      "is i greater than or equal to j? True\n",
      "should be I: True\n",
      "should be true: True\n",
      "should be true: True\n",
      "is i greater than or equal to j? False\n",
      "should be I: False\n",
      "should be true: False\n",
      "should be true: False\n",
      "is i greater than or equal to j? False\n",
      "should be I: False\n",
      "should be true: False\n",
      "should be true: False\n",
      "is i greater than or equal to j? False\n",
      "should be I: False\n",
      "should be true: False\n",
      "should be true: False\n",
      "is i greater than or equal to j? False\n",
      "should be I: False\n",
      "should be true: False\n",
      "should be true: False\n",
      "is i greater than or equal to j? False\n",
      "should be I: False\n",
      "should be true: False\n",
      "should be true: False\n",
      "is i greater than or equal to j? False\n",
      "should be I: False\n",
      "should be true: False\n",
      "should be true: False\n",
      "is i greater than or equal to j? True\n",
      "should be I: True\n",
      "should be true: True\n",
      "should be true: True\n",
      "is i greater than or equal to j? True\n",
      "should be I: True\n",
      "should be true: True\n",
      "should be true: True\n",
      "is i greater than or equal to j? True\n",
      "should be I: True\n",
      "should be true: True\n",
      "should be true: True\n",
      "is i greater than or equal to j? True\n",
      "should be I: True\n",
      "should be true: True\n",
      "should be true: True\n",
      "is i greater than or equal to j? False\n",
      "should be I: False\n",
      "should be true: False\n",
      "should be true: False\n",
      "is i greater than or equal to j? False\n",
      "should be I: False\n",
      "should be true: False\n",
      "should be true: False\n",
      "is i greater than or equal to j? False\n",
      "should be I: False\n",
      "should be true: False\n",
      "should be true: False\n",
      "is i greater than or equal to j? False\n",
      "should be I: False\n",
      "should be true: False\n",
      "should be true: False\n",
      "is i greater than or equal to j? False\n",
      "should be I: False\n",
      "should be true: False\n",
      "should be true: False\n",
      "is i greater than or equal to j? True\n",
      "should be I: True\n",
      "should be true: True\n",
      "should be true: True\n",
      "is i greater than or equal to j? True\n",
      "should be I: True\n",
      "should be true: True\n",
      "should be true: True\n",
      "is i greater than or equal to j? True\n",
      "should be I: True\n",
      "should be true: True\n",
      "should be true: True\n",
      "is i greater than or equal to j? True\n",
      "should be I: True\n",
      "should be true: True\n",
      "should be true: True\n",
      "is i greater than or equal to j? True\n",
      "should be I: True\n",
      "should be true: True\n",
      "should be true: True\n",
      "is i greater than or equal to j? False\n",
      "should be I: False\n",
      "should be true: False\n",
      "should be true: False\n",
      "is i greater than or equal to j? False\n",
      "should be I: False\n",
      "should be true: False\n",
      "should be true: False\n",
      "is i greater than or equal to j? False\n",
      "should be I: False\n",
      "should be true: False\n",
      "should be true: False\n",
      "is i greater than or equal to j? False\n",
      "should be I: False\n",
      "should be true: False\n",
      "should be true: False\n",
      "is i greater than or equal to j? True\n",
      "should be I: True\n",
      "should be true: True\n",
      "should be true: True\n",
      "is i greater than or equal to j? True\n",
      "should be I: True\n",
      "should be true: True\n",
      "should be true: True\n",
      "is i greater than or equal to j? True\n",
      "should be I: True\n",
      "should be true: True\n",
      "should be true: True\n",
      "is i greater than or equal to j? True\n",
      "should be I: True\n",
      "should be true: True\n",
      "should be true: True\n",
      "is i greater than or equal to j? True\n",
      "should be I: True\n",
      "should be true: True\n",
      "should be true: True\n",
      "is i greater than or equal to j? True\n",
      "should be I: True\n",
      "should be true: True\n",
      "should be true: True\n",
      "is i greater than or equal to j? False\n",
      "should be I: False\n",
      "should be true: False\n",
      "should be true: False\n",
      "is i greater than or equal to j? False\n",
      "should be I: False\n",
      "should be true: False\n",
      "should be true: False\n",
      "is i greater than or equal to j? False\n",
      "should be I: False\n",
      "should be true: False\n",
      "should be true: False\n",
      "is i greater than or equal to j? True\n",
      "should be I: True\n",
      "should be true: True\n",
      "should be true: True\n",
      "is i greater than or equal to j? True\n",
      "should be I: True\n",
      "should be true: True\n",
      "should be true: True\n",
      "is i greater than or equal to j? True\n",
      "should be I: True\n",
      "should be true: True\n",
      "should be true: True\n",
      "is i greater than or equal to j? True\n",
      "should be I: True\n",
      "should be true: True\n",
      "should be true: True\n",
      "is i greater than or equal to j? True\n",
      "should be I: True\n",
      "should be true: True\n",
      "should be true: True\n",
      "is i greater than or equal to j? True\n",
      "should be I: True\n",
      "should be true: True\n",
      "should be true: True\n",
      "is i greater than or equal to j? True\n",
      "should be I: True\n",
      "should be true: True\n",
      "should be true: True\n",
      "is i greater than or equal to j? False\n",
      "should be I: False\n",
      "should be true: False\n",
      "should be true: False\n",
      "is i greater than or equal to j? False\n",
      "should be I: False\n",
      "should be true: False\n",
      "should be true: False\n",
      "is i greater than or equal to j? True\n",
      "should be I: True\n",
      "should be true: True\n",
      "should be true: True\n",
      "is i greater than or equal to j? True\n",
      "should be I: True\n",
      "should be true: True\n",
      "should be true: True\n",
      "is i greater than or equal to j? True\n",
      "should be I: True\n",
      "should be true: True\n",
      "should be true: True\n",
      "is i greater than or equal to j? True\n",
      "should be I: True\n",
      "should be true: True\n",
      "should be true: True\n",
      "is i greater than or equal to j? True\n",
      "should be I: True\n",
      "should be true: True\n",
      "should be true: True\n",
      "is i greater than or equal to j? True\n",
      "should be I: True\n",
      "should be true: True\n",
      "should be true: True\n",
      "is i greater than or equal to j? True\n",
      "should be I: True\n",
      "should be true: True\n",
      "should be true: True\n",
      "is i greater than or equal to j? True\n",
      "should be I: True\n",
      "should be true: True\n",
      "should be true: True\n",
      "is i greater than or equal to j? False\n",
      "should be I: False\n",
      "should be true: False\n",
      "should be true: False\n",
      "is i greater than or equal to j? True\n",
      "should be I: True\n",
      "should be true: True\n",
      "should be true: True\n",
      "is i greater than or equal to j? True\n",
      "should be I: True\n",
      "should be true: True\n",
      "should be true: True\n",
      "is i greater than or equal to j? True\n",
      "should be I: True\n",
      "should be true: True\n",
      "should be true: True\n",
      "is i greater than or equal to j? True\n",
      "should be I: True\n",
      "should be true: True\n",
      "should be true: True\n",
      "is i greater than or equal to j? True\n",
      "should be I: True\n",
      "should be true: True\n",
      "should be true: True\n",
      "is i greater than or equal to j? True\n",
      "should be I: True\n",
      "should be true: True\n",
      "should be true: True\n",
      "is i greater than or equal to j? True\n",
      "should be I: True\n",
      "should be true: True\n",
      "should be true: True\n",
      "is i greater than or equal to j? True\n",
      "should be I: True\n",
      "should be true: True\n",
      "should be true: True\n",
      "is i greater than or equal to j? True\n",
      "should be I: True\n",
      "should be true: True\n",
      "should be true: True\n"
     ]
    },
    {
     "name": "stderr",
     "output_type": "stream",
     "text": [
      "/home/jorb/anaconda3/lib/python3.7/site-packages/ipykernel_launcher.py:19: RuntimeWarning: invalid value encountered in true_divide\n",
      "/home/jorb/anaconda3/lib/python3.7/site-packages/ipykernel_launcher.py:14: RuntimeWarning: invalid value encountered in double_scalars\n",
      "  \n"
     ]
    }
   ],
   "source": [
    "for i in range(1,10):\n",
    "    for j in range(1,10):\n",
    "        testmat = np.random.rand(i,j)\n",
    "        q,r = qrfactorization(testmat)\n",
    "        print('is i greater than or equal to j?', i>=j)\n",
    "        print('should be I:', np.allclose(q.T.dot(q), np.identity(j)))\n",
    "        print('should be true:', np.allclose(r, np.triu(r)))\n",
    "        print('should be true:', np.allclose(q.dot(r),testmat))"
   ]
  },
  {
   "cell_type": "markdown",
   "metadata": {},
   "source": [
    "By the look of this, it looks like my code works for square matrices and overdetermined matrices, but not underdetermined matrices. This makes sense, as there is no way to form an orthogonal matrix that is underdetermined. \n",
    "\n",
    "Now, I will take a 3x3 matrix with integer numbers and compare my algorithm to the householder reflector we made in class, as well as to the built-in qr algorithm in matlab. First, I will get a well conditioned 3x3 integer-valued matrix"
   ]
  },
  {
   "cell_type": "code",
   "execution_count": 378,
   "metadata": {},
   "outputs": [
    {
     "name": "stdout",
     "output_type": "stream",
     "text": [
      "[[60 35 43]\n",
      " [17 60 47]\n",
      " [11 91 90]]\n",
      "18.927925786803485\n"
     ]
    }
   ],
   "source": [
    "testmat = (np.random.rand(3,3) * 100).astype(int)\n",
    "print(testmat)\n",
    "print(np.linalg.cond(testmat))"
   ]
  },
  {
   "cell_type": "markdown",
   "metadata": {},
   "source": [
    "Now I will see how good of a qr decomposition I can get of it using my algorithm, matlab's algorithm, and the matlab algorithm using Dr. Kutz's code. "
   ]
  },
  {
   "cell_type": "code",
   "execution_count": 382,
   "metadata": {},
   "outputs": [
    {
     "data": {
      "text/plain": [
       "5.609677548238306e-30"
      ]
     },
     "execution_count": 382,
     "metadata": {},
     "output_type": "execute_result"
    }
   ],
   "source": [
    "q,r = qr_factorization(testmat)\n",
    "np.square(np.subtract(q.dot(r), testmat)).mean()"
   ]
  },
  {
   "cell_type": "markdown",
   "metadata": {},
   "source": [
    "Dr. Kutz's code gives a slightly higher mean squared matrix, with an mse of ~1e-27. "
   ]
  },
  {
   "attachments": {
    "123304206_363026341429902_5435918305278941692_n.png": {
     "image/png": "[encoded data removed]"
    }
   },
   "cell_type": "markdown",
   "metadata": {},
   "source": [
    "![123304206_363026341429902_5435918305278941692_n.png](attachment:123304206_363026341429902_5435918305278941692_n.png)"
   ]
  },
  {
   "attachments": {
    "123245014_1362285630781594_6278144957166627111_n.png": {
     "image/png": "[encoded data removed]"
    }
   },
   "cell_type": "markdown",
   "metadata": {},
   "source": [
    "And the in-house qr factorization gave a mean square error of ~1e-28\n",
    "![123245014_1362285630781594_6278144957166627111_n.png](attachment:123245014_1362285630781594_6278144957166627111_n.png)"
   ]
  },
  {
   "cell_type": "markdown",
   "metadata": {},
   "source": [
    "Now, I will try again with an ill conditioned matrix. "
   ]
  },
  {
   "cell_type": "code",
   "execution_count": 397,
   "metadata": {},
   "outputs": [
    {
     "name": "stdout",
     "output_type": "stream",
     "text": [
      "16064183417210.48\n"
     ]
    },
    {
     "data": {
      "text/plain": [
       "array([[945860266690, 969986701829, 945860266691],\n",
       "       [836878523018, 299216303152, 836878523019],\n",
       "       [641096252791, 259825349062, 641096252792]])"
      ]
     },
     "execution_count": 397,
     "metadata": {},
     "output_type": "execute_result"
    }
   ],
   "source": [
    "testmat = (np.random.rand(3,2) * 1000000000000).astype(int)\n",
    "testmat = np.c_[testmat,testmat.T[0] + np.array([1,1,1])]\n",
    "print(np.linalg.cond(testmat))\n",
    "testmat"
   ]
  },
  {
   "cell_type": "code",
   "execution_count": 399,
   "metadata": {},
   "outputs": [
    {
     "data": {
      "text/plain": [
       "1.655684577094184e-09"
      ]
     },
     "execution_count": 399,
     "metadata": {},
     "output_type": "execute_result"
    }
   ],
   "source": [
    "q,r = qr_factorization(testmat)\n",
    "mean_squared_error(q.dot(r),testmat)"
   ]
  },
  {
   "attachments": {
    "123140726_369516494290883_8161274918218161735_n.png": {
     "image/png": "[encoded data removed]"
    }
   },
   "cell_type": "markdown",
   "metadata": {},
   "source": [
    "So my algorithm gives an mse of ~1e-9. Testing Dr. Kutz's on the same matrix gives an mse of ~1e-7. \n",
    "![123140726_369516494290883_8161274918218161735_n.png](attachment:123140726_369516494290883_8161274918218161735_n.png)"
   ]
  },
  {
   "attachments": {
    "123244375_1270439516625584_6892042066035085198_n.png": {
     "image/png": "[encoded data removed]"
    }
   },
   "cell_type": "markdown",
   "metadata": {},
   "source": [
    "and the in-house matlab qr gives an error also on the order of magnitude of 1e-7. ![123244375_1270439516625584_6892042066035085198_n.png](attachment:123244375_1270439516625584_6892042066035085198_n.png)"
   ]
  },
  {
   "cell_type": "markdown",
   "metadata": {},
   "source": [
    "Therefore, for both the well conditioned and ill conditioned matrices that we tested, the Gram Schmidt method led to smaller errors than the other two methods did. That being said, it is worth noting that the differences in error between the different methods was small compared to the differences in error each method experienced between ill and well conditioned matrices. "
   ]
  },
  {
   "cell_type": "markdown",
   "metadata": {},
   "source": [
    "# Question 2\n",
    "The coding part of this question is going to be quick -- First, I am going to generate a list of x values in the required range and with the required step size. Then, I am going to define two functions: one that generates the corresponding y values using the expanded polynomial form, and one that generates the corresponding x values using the condensed polynomial form. Finally, I will plot y vs x for the expanded polynomial y values, and I will ply y vs x for the condensed polynomial y values. In theory, the resulting plots should be the same, but it is possible that the two methods lead to differences in precision, rounding errors, etc, that will make the two plots look different. "
   ]
  },
  {
   "cell_type": "code",
   "execution_count": 4,
   "metadata": {},
   "outputs": [],
   "source": [
    "import numpy as np\n",
    "from matplotlib import pyplot as plt"
   ]
  },
  {
   "cell_type": "code",
   "execution_count": 15,
   "metadata": {},
   "outputs": [],
   "source": [
    "# generating x val list\n",
    "xlist = np.arange(1.920,2.080,0.001)"
   ]
  },
  {
   "cell_type": "code",
   "execution_count": 35,
   "metadata": {},
   "outputs": [],
   "source": [
    "def findyexp(xlist): \n",
    "    # generating y val list expanded form \n",
    "    ylist = []\n",
    "    for x in xlist: \n",
    "        y = x**9 - 18*x**8 + 144*x**7 - 672*x**6 + 2016*x**5 - 4032*x**4 + 5376*x**3 - 4608*x**2 + 2304*x - 512\n",
    "        ylist.append(y)\n",
    "    return ylist"
   ]
  },
  {
   "cell_type": "code",
   "execution_count": 36,
   "metadata": {},
   "outputs": [],
   "source": [
    "def findycond(xlist):\n",
    "    # generating y val list condensed form \n",
    "    ylist = []\n",
    "    for x in xlist: \n",
    "        y = (x-2)**9\n",
    "        ylist.append(y)\n",
    "    return ylist"
   ]
  },
  {
   "cell_type": "code",
   "execution_count": 30,
   "metadata": {},
   "outputs": [],
   "source": [
    "ylistexp = findyexp(xlist)"
   ]
  },
  {
   "cell_type": "code",
   "execution_count": 33,
   "metadata": {},
   "outputs": [],
   "source": [
    "ylistcond = findycond(xlist)"
   ]
  },
  {
   "cell_type": "code",
   "execution_count": 37,
   "metadata": {},
   "outputs": [
    {
     "data": {
      "image/png": "[encoded data removed]",
      "text/plain": [
       "<Figure size 432x288 with 1 Axes>"
      ]
     },
     "metadata": {
      "needs_background": "light"
     },
     "output_type": "display_data"
    }
   ],
   "source": [
    "# plotting y vs x for expanded form y values\n",
    "plt.plot(xlist, ylistexp, 'ro')\n",
    "plt.axis([1.920, 2.080, -2*10**-10, 2*10**-10])\n",
    "plt.show()"
   ]
  },
  {
   "cell_type": "code",
   "execution_count": 39,
   "metadata": {},
   "outputs": [
    {
     "data": {
      "image/png": "[encoded data removed]",
      "text/plain": [
       "<Figure size 432x288 with 1 Axes>"
      ]
     },
     "metadata": {
      "needs_background": "light"
     },
     "output_type": "display_data"
    }
   ],
   "source": [
    "# generating y vs x for condensed form y values\n",
    "plt.plot(xlist, ylistcond, 'go')\n",
    "plt.axis([1.920, 2.080, -2*10**-10, 2*10**-10])\n",
    "plt.show()"
   ]
  },
  {
   "cell_type": "markdown",
   "metadata": {},
   "source": [
    "As can be seen from the previous two graphs, the two plots look different. When using the expanded form of the polynomial, the general form of the graph can be seen, but dots seem to appear scattered about the intended function. When using the condensed form of the polynomial, the graph appears much cleaner, and follows the intended form of the graph seemingly exactly. This is likely due to the number of digits the computer stores for each number. When the polynomial is in expanded form, the computer may compute each term of the polynomial separately, each time storing only some of the digits. When the polynomial is in condensed form, the computer will only store one value (x-2) before performing the exponent, and (x-2) will not have very many digits since our step sizes yield numbers with four digits. So, while the rounding errors of each term in the expanded form will compound when summed, the rounding errors in the condensed form will be consistent, as the only rounding that occurs in the condensed form will occur after the exponentiation. "
   ]
  },
  {
   "cell_type": "markdown",
   "metadata": {},
   "source": [
    "# Question 3\n",
    "In order to answer this question, I need to generate an mxn matrix in which m = n+1. That way, once I add a column, the matrix will be square, and a determinant can be taken. "
   ]
  },
  {
   "cell_type": "code",
   "execution_count": 41,
   "metadata": {},
   "outputs": [],
   "source": [
    "def randmat(m):\n",
    "    # creates random matrix with dimensions(m, m-1)\n",
    "    randommat = np.random.rand(m,m-1)\n",
    "    return randommat"
   ]
  },
  {
   "cell_type": "code",
   "execution_count": 52,
   "metadata": {},
   "outputs": [],
   "source": [
    "# generating four random matrices with dim (m, m-1) of increasing m\n",
    "matrix2 = randmat(2)\n",
    "matrix20 = randmat(20)\n",
    "matrix200 = randmat(200)\n",
    "matrix2000 = randmat(2000)"
   ]
  },
  {
   "cell_type": "markdown",
   "metadata": {},
   "source": [
    "now I'm going to check the condition numbers of a few"
   ]
  },
  {
   "cell_type": "code",
   "execution_count": 53,
   "metadata": {},
   "outputs": [
    {
     "data": {
      "text/plain": [
       "1.0"
      ]
     },
     "execution_count": 53,
     "metadata": {},
     "output_type": "execute_result"
    }
   ],
   "source": [
    "np.linalg.cond(matrix2)"
   ]
  },
  {
   "cell_type": "code",
   "execution_count": 54,
   "metadata": {},
   "outputs": [
    {
     "data": {
      "text/plain": [
       "190.8807021381563"
      ]
     },
     "execution_count": 54,
     "metadata": {},
     "output_type": "execute_result"
    }
   ],
   "source": [
    "np.linalg.cond(matrix20)"
   ]
  },
  {
   "cell_type": "code",
   "execution_count": 55,
   "metadata": {},
   "outputs": [
    {
     "data": {
      "text/plain": [
       "6023.181781141914"
      ]
     },
     "execution_count": 55,
     "metadata": {},
     "output_type": "execute_result"
    }
   ],
   "source": [
    "np.linalg.cond(matrix200)"
   ]
  },
  {
   "cell_type": "code",
   "execution_count": 56,
   "metadata": {},
   "outputs": [
    {
     "data": {
      "text/plain": [
       "111511.43669810078"
      ]
     },
     "execution_count": 56,
     "metadata": {},
     "output_type": "execute_result"
    }
   ],
   "source": [
    "np.linalg.cond(matrix2000)"
   ]
  },
  {
   "cell_type": "markdown",
   "metadata": {},
   "source": [
    "It seems that the condition number generally increases with size. If I wanted, I could plot the correlation. In fact, I will. "
   ]
  },
  {
   "cell_type": "code",
   "execution_count": 67,
   "metadata": {},
   "outputs": [
    {
     "name": "stdout",
     "output_type": "stream",
     "text": [
      "10\n",
      "20\n",
      "30\n",
      "40\n",
      "50\n",
      "60\n",
      "70\n",
      "80\n",
      "90\n",
      "100\n",
      "110\n",
      "120\n",
      "130\n",
      "140\n",
      "150\n",
      "160\n",
      "170\n",
      "180\n",
      "190\n",
      "200\n",
      "210\n",
      "220\n",
      "230\n",
      "240\n",
      "250\n",
      "260\n",
      "270\n",
      "280\n",
      "290\n",
      "300\n",
      "310\n",
      "320\n",
      "330\n",
      "340\n",
      "350\n",
      "360\n",
      "370\n",
      "380\n",
      "390\n",
      "400\n",
      "410\n",
      "420\n",
      "430\n",
      "440\n",
      "450\n",
      "460\n",
      "470\n",
      "480\n",
      "490\n",
      "500\n",
      "510\n",
      "520\n",
      "530\n",
      "540\n",
      "550\n",
      "560\n",
      "570\n",
      "580\n",
      "590\n",
      "600\n",
      "610\n",
      "620\n",
      "630\n",
      "640\n",
      "650\n",
      "660\n",
      "670\n",
      "680\n",
      "690\n",
      "700\n",
      "710\n",
      "720\n",
      "730\n",
      "740\n",
      "750\n",
      "760\n",
      "770\n",
      "780\n",
      "790\n",
      "800\n",
      "810\n",
      "820\n",
      "830\n",
      "840\n",
      "850\n",
      "860\n",
      "870\n",
      "880\n",
      "890\n",
      "900\n",
      "910\n",
      "920\n",
      "930\n",
      "940\n",
      "950\n",
      "960\n",
      "970\n",
      "980\n",
      "990\n",
      "1000\n",
      "1010\n",
      "1020\n",
      "1030\n",
      "1040\n",
      "1050\n",
      "1060\n",
      "1070\n",
      "1080\n",
      "1090\n",
      "1100\n",
      "1110\n",
      "1120\n",
      "1130\n",
      "1140\n",
      "1150\n",
      "1160\n",
      "1170\n",
      "1180\n",
      "1190\n",
      "1200\n",
      "1210\n",
      "1220\n",
      "1230\n",
      "1240\n",
      "1250\n",
      "1260\n",
      "1270\n",
      "1280\n",
      "1290\n",
      "1300\n",
      "1310\n",
      "1320\n",
      "1330\n",
      "1340\n",
      "1350\n",
      "1360\n",
      "1370\n",
      "1380\n",
      "1390\n",
      "1400\n",
      "1410\n",
      "1420\n",
      "1430\n",
      "1440\n",
      "1450\n",
      "1460\n",
      "1470\n",
      "1480\n",
      "1490\n",
      "1500\n",
      "1510\n",
      "1520\n",
      "1530\n",
      "1540\n",
      "1550\n",
      "1560\n",
      "1570\n",
      "1580\n",
      "1590\n",
      "1600\n",
      "1610\n",
      "1620\n",
      "1630\n",
      "1640\n",
      "1650\n",
      "1660\n",
      "1670\n",
      "1680\n",
      "1690\n",
      "1700\n",
      "1710\n",
      "1720\n",
      "1730\n",
      "1740\n",
      "1750\n",
      "1760\n",
      "1770\n",
      "1780\n",
      "1790\n",
      "1800\n",
      "1810\n",
      "1820\n",
      "1830\n",
      "1840\n",
      "1850\n",
      "1860\n",
      "1870\n",
      "1880\n",
      "1890\n",
      "1900\n",
      "1910\n",
      "1920\n",
      "1930\n",
      "1940\n",
      "1950\n",
      "1960\n",
      "1970\n",
      "1980\n",
      "1990\n",
      "2000\n",
      "2010\n",
      "2020\n",
      "2030\n",
      "2040\n",
      "2050\n",
      "2060\n",
      "2070\n",
      "2080\n",
      "2090\n",
      "2100\n",
      "2110\n",
      "2120\n",
      "2130\n",
      "2140\n",
      "2150\n",
      "2160\n",
      "2170\n",
      "2180\n",
      "2190\n",
      "2200\n",
      "2210\n",
      "2220\n",
      "2230\n",
      "2240\n",
      "2250\n",
      "2260\n",
      "2270\n",
      "2280\n",
      "2290\n",
      "2300\n",
      "2310\n",
      "2320\n",
      "2330\n",
      "2340\n",
      "2350\n",
      "2360\n",
      "2370\n",
      "2380\n",
      "2390\n",
      "2400\n",
      "2410\n",
      "2420\n",
      "2430\n",
      "2440\n",
      "2450\n",
      "2460\n",
      "2470\n",
      "2480\n",
      "2490\n",
      "2500\n",
      "2510\n",
      "2520\n",
      "2530\n",
      "2540\n",
      "2550\n",
      "2560\n",
      "2570\n",
      "2580\n",
      "2590\n",
      "2600\n",
      "2610\n",
      "2620\n",
      "2630\n",
      "2640\n",
      "2650\n",
      "2660\n",
      "2670\n",
      "2680\n",
      "2690\n",
      "2700\n",
      "2710\n",
      "2720\n",
      "2730\n",
      "2740\n",
      "2750\n",
      "2760\n",
      "2770\n",
      "2780\n",
      "2790\n",
      "2800\n",
      "2810\n",
      "2820\n",
      "2830\n",
      "2840\n",
      "2850\n",
      "2860\n",
      "2870\n",
      "2880\n",
      "2890\n",
      "2900\n",
      "2910\n",
      "2920\n",
      "2930\n",
      "2940\n",
      "2950\n",
      "2960\n",
      "2970\n",
      "2980\n",
      "2990\n",
      "3000\n",
      "3010\n",
      "3020\n",
      "3030\n",
      "3040\n",
      "3050\n",
      "3060\n",
      "3070\n",
      "3080\n",
      "3090\n",
      "3100\n",
      "3110\n",
      "3120\n",
      "3130\n",
      "3140\n",
      "3150\n",
      "3160\n",
      "3170\n",
      "3180\n",
      "3190\n",
      "3200\n",
      "3210\n",
      "3220\n",
      "3230\n",
      "3240\n",
      "3250\n",
      "3260\n",
      "3270\n",
      "3280\n",
      "3290\n",
      "3300\n",
      "3310\n",
      "3320\n",
      "3330\n",
      "3340\n",
      "3350\n",
      "3360\n",
      "3370\n",
      "3380\n",
      "3390\n",
      "3400\n",
      "3410\n",
      "3420\n",
      "3430\n",
      "3440\n",
      "3450\n",
      "3460\n",
      "3470\n",
      "3480\n",
      "3490\n",
      "3500\n",
      "3510\n",
      "3520\n",
      "3530\n",
      "3540\n",
      "3550\n",
      "3560\n",
      "3570\n",
      "3580\n",
      "3590\n",
      "3600\n",
      "3610\n",
      "3620\n",
      "3630\n",
      "3640\n",
      "3650\n",
      "3660\n",
      "3670\n",
      "3680\n",
      "3690\n",
      "3700\n",
      "3710\n",
      "3720\n",
      "3730\n",
      "3740\n",
      "3750\n",
      "3760\n",
      "3770\n",
      "3780\n",
      "3790\n",
      "3800\n",
      "3810\n",
      "3820\n",
      "3830\n",
      "3840\n",
      "3850\n",
      "3860\n",
      "3870\n",
      "3880\n",
      "3890\n",
      "3900\n",
      "3910\n",
      "3920\n",
      "3930\n",
      "3940\n",
      "3950\n",
      "3960\n",
      "3970\n",
      "3980\n",
      "3990\n"
     ]
    }
   ],
   "source": [
    "condnums = []\n",
    "for i in range(10,4000,10):\n",
    "    tempmat = randmat(i)\n",
    "    condnums.append(np.linalg.cond(tempmat))\n",
    "    print(i)"
   ]
  },
  {
   "cell_type": "code",
   "execution_count": 68,
   "metadata": {},
   "outputs": [
    {
     "data": {
      "text/plain": [
       "[<matplotlib.lines.Line2D at 0x7ff4caeea510>]"
      ]
     },
     "execution_count": 68,
     "metadata": {},
     "output_type": "execute_result"
    },
    {
     "data": {
      "image/png": "[encoded data removed]",
      "text/plain": [
       "<Figure size 432x288 with 1 Axes>"
      ]
     },
     "metadata": {
      "needs_background": "light"
     },
     "output_type": "display_data"
    }
   ],
   "source": [
    "plt.plot(range(10,4000,10), condnums, 'ro')"
   ]
  },
  {
   "cell_type": "markdown",
   "metadata": {},
   "source": [
    "As can be seen from this plot, an average condition number will generally increase as the dimensions of the matrix increases, with the smallest condition numbers seen at small matrices being around 1, and with the smallest condition numbers seen at matrices with dim(3800,3799) being around 3e5. Furthermore, very high condition number outliers also seem to increase as the size of the matrix increases. \n",
    "\n",
    "Now I will take a testmatrix and perform part b of the problem. "
   ]
  },
  {
   "cell_type": "code",
   "execution_count": 85,
   "metadata": {},
   "outputs": [],
   "source": [
    "testmat = np.random.rand(40,39)"
   ]
  },
  {
   "cell_type": "code",
   "execution_count": 106,
   "metadata": {},
   "outputs": [
    {
     "data": {
      "text/plain": [
       "array([0.99385871, 0.97307832, 0.94765585, 0.31210176, 0.0627464 ,\n",
       "       0.88157215, 0.45620546, 0.6678209 , 0.6367134 , 0.1677607 ,\n",
       "       0.47591151, 0.06771415, 0.12785087, 0.65482783, 0.98973549,\n",
       "       0.11024744, 0.56217764, 0.82745239, 0.22731252, 0.00436367,\n",
       "       0.70587144, 0.3139596 , 0.27538869, 0.14772881, 0.32963691,\n",
       "       0.80113887, 0.07539287, 0.11087652, 0.28781655, 0.28959495,\n",
       "       0.44284099, 0.35950422, 0.52492959, 0.86872835, 0.23028131,\n",
       "       0.24507356, 0.17468633, 0.85039569, 0.60908207, 0.15819385])"
      ]
     },
     "execution_count": 106,
     "metadata": {},
     "output_type": "execute_result"
    }
   ],
   "source": [
    "testmat.T[0]"
   ]
  },
  {
   "cell_type": "code",
   "execution_count": 138,
   "metadata": {},
   "outputs": [],
   "source": [
    "appended_testmat = np.c_[testmat,testmat.T[0]]"
   ]
  },
  {
   "cell_type": "code",
   "execution_count": 139,
   "metadata": {},
   "outputs": [
    {
     "data": {
      "text/plain": [
       "array([[0.99385871, 0.14328575, 0.7638757 , ..., 0.9838614 , 0.11996336,\n",
       "        0.99385871],\n",
       "       [0.97307832, 0.49091033, 0.40840927, ..., 0.93047197, 0.74839424,\n",
       "        0.97307832],\n",
       "       [0.94765585, 0.93518126, 0.2806263 , ..., 0.33652531, 0.77037998,\n",
       "        0.94765585],\n",
       "       ...,\n",
       "       [0.85039569, 0.44312434, 0.69474727, ..., 0.63563206, 0.97450749,\n",
       "        0.85039569],\n",
       "       [0.60908207, 0.41109721, 0.76367101, ..., 0.81539071, 0.33250557,\n",
       "        0.60908207],\n",
       "       [0.15819385, 0.9907046 , 0.75310986, ..., 0.06156909, 0.33364963,\n",
       "        0.15819385]])"
      ]
     },
     "execution_count": 139,
     "metadata": {},
     "output_type": "execute_result"
    }
   ],
   "source": [
    "appended_testmat"
   ]
  },
  {
   "cell_type": "code",
   "execution_count": 140,
   "metadata": {},
   "outputs": [
    {
     "data": {
      "text/plain": [
       "353.9223225450106"
      ]
     },
     "execution_count": 140,
     "metadata": {},
     "output_type": "execute_result"
    }
   ],
   "source": [
    "np.linalg.cond(testmat)"
   ]
  },
  {
   "cell_type": "code",
   "execution_count": 141,
   "metadata": {},
   "outputs": [
    {
     "data": {
      "text/plain": [
       "5.222629382672979e+16"
      ]
     },
     "execution_count": 141,
     "metadata": {},
     "output_type": "execute_result"
    }
   ],
   "source": [
    "np.linalg.cond(appended_testmat)"
   ]
  },
  {
   "cell_type": "code",
   "execution_count": 142,
   "metadata": {},
   "outputs": [
    {
     "data": {
      "text/plain": [
       "-6.470490169745501e-14"
      ]
     },
     "execution_count": 142,
     "metadata": {},
     "output_type": "execute_result"
    }
   ],
   "source": [
    "np.linalg.det(appended_testmat)"
   ]
  },
  {
   "cell_type": "markdown",
   "metadata": {},
   "source": [
    "So, when the first column is appended to the end of the matrix, the condition number shoots up to very high, meaning that we have an ill-conditioned matrix. Taking the determinant of the new matrix shows that the determinant is basically zero, given computer accuracy. The original matrix cannot have a determinant, as it is not square. The important takeaway is that the condition number becomes very high when two columns of a matrix are identical. \n",
    "\n",
    "Now, I will add noise to the column vector that I added. I predict that this will make the condition number go down, and the determinant go up. "
   ]
  },
  {
   "cell_type": "code",
   "execution_count": 143,
   "metadata": {},
   "outputs": [],
   "source": [
    "vec = testmat.T[0]"
   ]
  },
  {
   "cell_type": "code",
   "execution_count": 144,
   "metadata": {},
   "outputs": [
    {
     "data": {
      "text/plain": [
       "(40,)"
      ]
     },
     "execution_count": 144,
     "metadata": {},
     "output_type": "execute_result"
    }
   ],
   "source": [
    "np.shape(vec)"
   ]
  },
  {
   "cell_type": "code",
   "execution_count": 145,
   "metadata": {},
   "outputs": [],
   "source": [
    "noisevec = np.random.rand(40)"
   ]
  },
  {
   "cell_type": "markdown",
   "metadata": {},
   "source": [
    "I will start with a very small magnitude of noise, and see how increasing the noise changes the condition number and determinant of the resulting matrix. I predict that determinant will go up and condition number will go down as the magnitude of noise approaches the max magnitude of each number of the vector, 1. "
   ]
  },
  {
   "cell_type": "code",
   "execution_count": 161,
   "metadata": {},
   "outputs": [],
   "source": [
    "noisyvec0 = vec + 0.0001*noisevec\n",
    "noisyvec1 = vec + 0.001*noisevec\n",
    "noisyvec2 = vec + 0.01*noisevec\n",
    "noisyvec3 = vec + 0.1*noisevec"
   ]
  },
  {
   "cell_type": "code",
   "execution_count": 162,
   "metadata": {},
   "outputs": [],
   "source": [
    "appended_testmatn0 = np.c_[testmat,noisyvec0]\n",
    "appended_testmatn1 = np.c_[testmat,noisyvec1]\n",
    "appended_testmatn2 = np.c_[testmat,noisyvec2]\n",
    "appended_testmatn3 = np.c_[testmat,noisyvec3]"
   ]
  },
  {
   "cell_type": "code",
   "execution_count": 163,
   "metadata": {},
   "outputs": [
    {
     "name": "stdout",
     "output_type": "stream",
     "text": [
      "85674930.47015965\n",
      "8569546.318046518\n",
      "859246.8779316718\n",
      "90517.78019588972\n"
     ]
    }
   ],
   "source": [
    "print(np.linalg.cond(appended_testmatn0))\n",
    "print(np.linalg.cond(appended_testmatn1))\n",
    "print(np.linalg.cond(appended_testmatn2))\n",
    "print(np.linalg.cond(appended_testmatn3))"
   ]
  },
  {
   "cell_type": "code",
   "execution_count": 164,
   "metadata": {},
   "outputs": [
    {
     "name": "stdout",
     "output_type": "stream",
     "text": [
      "0.0003567098871484657\n",
      "0.0035670988721943236\n",
      "0.035670988721735186\n",
      "0.35670988721630864\n"
     ]
    }
   ],
   "source": [
    "print(np.linalg.det(appended_testmatn0))\n",
    "print(np.linalg.det(appended_testmatn1))\n",
    "print(np.linalg.det(appended_testmatn2))\n",
    "print(np.linalg.det(appended_testmatn3))"
   ]
  },
  {
   "cell_type": "markdown",
   "metadata": {},
   "source": [
    "As can be seen, the condition number seems to decrease by approximately an order of magnitude for each order of magnitude the noise in the appended column increases by. Likewise, the determinant seems to increase by an approximately an order of magnitude for each order of magnitude the noise in the appended column increases by. This upholds the hypothesis that adding noise into the duplicated column will decrease the condition number and increase the determinant. "
   ]
  },
  {
   "cell_type": "code",
   "execution_count": null,
   "metadata": {},
   "outputs": [],
   "source": []
  }
 ],
 "metadata": {
  "kernelspec": {
   "display_name": "Python 3",
   "language": "python",
   "name": "python3"
  },
  "language_info": {
   "codemirror_mode": {
    "name": "ipython",
    "version": 3
   },
   "file_extension": ".py",
   "mimetype": "text/x-python",
   "name": "python",
   "nbconvert_exporter": "python",
   "pygments_lexer": "ipython3",
   "version": "3.7.7"
  }
 },
 "nbformat": 4,
 "nbformat_minor": 4
}
