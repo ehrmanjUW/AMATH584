{
 "cells": [
  {
   "cell_type": "markdown",
   "metadata": {},
   "source": [
    "Homework 5 \n",
    "\n",
    "by Jordan Ehrman\n",
    "\n",
    "for AMATH 584 with Dr. Kutz\n",
    "10/5/2020"
   ]
  },
  {
   "cell_type": "markdown",
   "metadata": {},
   "source": [
    "# Question I \n",
    "## Part A - generating random symmetrix 10x10 matrix "
   ]
  },
  {
   "cell_type": "code",
   "execution_count": 1,
   "metadata": {},
   "outputs": [],
   "source": [
    "import numpy as np "
   ]
  },
  {
   "cell_type": "code",
   "execution_count": 2,
   "metadata": {},
   "outputs": [],
   "source": [
    "notsym = np.random.randint(0,100,size=(10,10))"
   ]
  },
  {
   "cell_type": "code",
   "execution_count": 3,
   "metadata": {},
   "outputs": [],
   "source": [
    "symmat = notsym + notsym.T"
   ]
  },
  {
   "cell_type": "code",
   "execution_count": 4,
   "metadata": {},
   "outputs": [
    {
     "data": {
      "text/plain": [
       "array([[ 28,  81,  95,  50,  73,  80,  85, 123,  50,  42],\n",
       "       [ 81,  10, 195, 127,  54,  84,  60, 133, 163,  86],\n",
       "       [ 95, 195, 122, 115, 110, 107,  74,  11, 115, 164],\n",
       "       [ 50, 127, 115, 172, 123,  40, 161, 102,  16, 114],\n",
       "       [ 73,  54, 110, 123,  36, 121,  70, 128, 103,  56],\n",
       "       [ 80,  84, 107,  40, 121, 128, 103, 144,  76, 106],\n",
       "       [ 85,  60,  74, 161,  70, 103,  22,  70,  67,  84],\n",
       "       [123, 133,  11, 102, 128, 144,  70,   2, 127, 120],\n",
       "       [ 50, 163, 115,  16, 103,  76,  67, 127, 154, 146],\n",
       "       [ 42,  86, 164, 114,  56, 106,  84, 120, 146, 160]])"
      ]
     },
     "execution_count": 4,
     "metadata": {},
     "output_type": "execute_result"
    }
   ],
   "source": [
    "symmat"
   ]
  },
  {
   "cell_type": "markdown",
   "metadata": {},
   "source": [
    "yep that's a random symmetric matrix. \n",
    "## finding eigenvalues"
   ]
  },
  {
   "cell_type": "code",
   "execution_count": 5,
   "metadata": {},
   "outputs": [
    {
     "data": {
      "text/plain": [
       "(array([ 969.83976758, -244.38591595, -178.4309276 ,  182.56258967,\n",
       "         132.25124846,  -17.14062194,  -62.75987556,  -48.88678723,\n",
       "          51.74739425,   49.20312832]),\n",
       " array([[ 0.23025621, -0.1604638 , -0.32944453, -0.03547217, -0.28825838,\n",
       "          0.70240988,  0.27875783,  0.19365711,  0.3405802 ,  0.06136007],\n",
       "        [ 0.33083617, -0.53252873,  0.3431605 ,  0.09030422,  0.18164372,\n",
       "          0.07735834, -0.54470585, -0.0677724 ,  0.36266285, -0.09615585],\n",
       "        [ 0.36717947,  0.46625622,  0.06993978,  0.05150703,  0.43070538,\n",
       "         -0.10323682,  0.12149656,  0.04531082,  0.40414344,  0.51373968],\n",
       "        [ 0.33085095,  0.05736547, -0.43990515, -0.72145391,  0.20496459,\n",
       "         -0.13056641, -0.20278592,  0.03750301, -0.0630383 , -0.26014238],\n",
       "        [ 0.28618861, -0.28348714,  0.22414102, -0.09265914, -0.27006325,\n",
       "         -0.5264864 ,  0.46135138,  0.43546563,  0.12969336, -0.09740816],\n",
       "        [ 0.31928017, -0.07185736, -0.29807844,  0.11815743, -0.54566875,\n",
       "         -0.25340637, -0.29493534, -0.24686677, -0.17329451,  0.50015451],\n",
       "        [ 0.26113008,  0.00637524,  0.41520835, -0.30567021, -0.1024271 ,\n",
       "          0.15404473,  0.37102359, -0.69294711, -0.11035475, -0.04128835],\n",
       "        [ 0.30748858,  0.57371215,  0.3564371 ,  0.05345705, -0.36556787,\n",
       "          0.1808475 , -0.30276619,  0.28167028, -0.12705327, -0.30480543],\n",
       "        [ 0.33865447,  0.08455379, -0.36603951,  0.56869114,  0.12369691,\n",
       "         -0.15513505,  0.16970244, -0.28157014,  0.05554719, -0.51984161],\n",
       "        [ 0.36328728, -0.21935088,  0.05271435,  0.15871268,  0.35535112,\n",
       "          0.22588805,  0.10839433,  0.25509837, -0.71198138,  0.17577601]]))"
      ]
     },
     "execution_count": 5,
     "metadata": {},
     "output_type": "execute_result"
    }
   ],
   "source": [
    "np.linalg.eig(symmat)"
   ]
  },
  {
   "cell_type": "code",
   "execution_count": 6,
   "metadata": {},
   "outputs": [],
   "source": [
    "eigenvalist,eigenveclist = np.linalg.eig(symmat)"
   ]
  },
  {
   "cell_type": "markdown",
   "metadata": {},
   "source": [
    "That's ten eigenvalues and ten eigenvectors, as is expected!"
   ]
  },
  {
   "cell_type": "markdown",
   "metadata": {},
   "source": [
    "## Part B -- power iterating"
   ]
  },
  {
   "cell_type": "code",
   "execution_count": 7,
   "metadata": {},
   "outputs": [],
   "source": [
    "from copy import deepcopy\n",
    "def power_iterating(mat,size,niter):\n",
    "    pieigvallist = []\n",
    "    #choosing my random initial vector\n",
    "    initvec = np.random.rand(size,1)\n",
    "    tempvec = deepcopy(initvec)\n",
    "    # iterating \n",
    "    for i in range(niter):\n",
    "        newvecunnorm = np.dot(mat,tempvec)\n",
    "        normonewvec = np.linalg.norm(newvecunnorm)\n",
    "        tempvec = deepcopy(newvecunnorm / normonewvec)\n",
    "        eigval = np.dot(tempvec.T, np.dot(mat,tempvec))\n",
    "        pieigvallist.append(eigval)\n",
    "    return(pieigvallist)"
   ]
  },
  {
   "cell_type": "code",
   "execution_count": 8,
   "metadata": {},
   "outputs": [
    {
     "data": {
      "text/plain": [
       "[array([[963.93066477]]),\n",
       " array([[969.63515167]]),\n",
       " array([[969.83183757]]),\n",
       " array([[969.839433]]),\n",
       " array([[969.83975206]]),\n",
       " array([[969.83976679]]),\n",
       " array([[969.83976754]]),\n",
       " array([[969.83976758]]),\n",
       " array([[969.83976758]]),\n",
       " array([[969.83976758]])]"
      ]
     },
     "execution_count": 8,
     "metadata": {},
     "output_type": "execute_result"
    }
   ],
   "source": [
    "power_iterating(symmat,10,10)"
   ]
  },
  {
   "cell_type": "markdown",
   "metadata": {},
   "source": [
    "It converged! \n",
    "## visualizing error as a function of number of iterations"
   ]
  },
  {
   "cell_type": "code",
   "execution_count": 9,
   "metadata": {},
   "outputs": [
    {
     "data": {
      "text/plain": [
       "969.8397675799183"
      ]
     },
     "execution_count": 9,
     "metadata": {},
     "output_type": "execute_result"
    }
   ],
   "source": [
    "import matplotlib.pyplot as plt\n",
    "eigenvalist[0]"
   ]
  },
  {
   "cell_type": "code",
   "execution_count": 10,
   "metadata": {},
   "outputs": [],
   "source": [
    "listofest = power_iterating(symmat,10,20)"
   ]
  },
  {
   "cell_type": "code",
   "execution_count": 11,
   "metadata": {},
   "outputs": [],
   "source": [
    "errorlist = []\n",
    "for i in range(len(listofest)):\n",
    "    error = abs(listofest[i] - eigenvalist[0])\n",
    "    errorlist.append(error)"
   ]
  },
  {
   "cell_type": "code",
   "execution_count": 12,
   "metadata": {},
   "outputs": [
    {
     "data": {
      "image/png": "[encoded data removed]",
      "text/plain": [
       "<Figure size 432x288 with 1 Axes>"
      ]
     },
     "metadata": {
      "needs_background": "light"
     },
     "output_type": "display_data"
    }
   ],
   "source": [
    "fig = plt.scatter(range(20),errorlist)\n",
    "ax = plt.gca()\n",
    "ax.set_yscale('log')"
   ]
  },
  {
   "cell_type": "markdown",
   "metadata": {},
   "source": [
    "Error consistently drops exponentially until the estimated eigenvalue and real eigenvalue are equal to E-12 error!"
   ]
  },
  {
   "cell_type": "markdown",
   "metadata": {},
   "source": [
    "## Part C - using Rayleigh Quotients"
   ]
  },
  {
   "cell_type": "code",
   "execution_count": 12,
   "metadata": {},
   "outputs": [],
   "source": [
    "def rq(A,niter,initvec,initval):\n",
    "    identitymat = np.identity(10)\n",
    "    tempmat = deepcopy(A.astype(float))\n",
    "    eigtracker = []\n",
    "    #normal rayleigh quotient iteration\n",
    "    tempinitvec = initvec\n",
    "    initeigenval = initval\n",
    "    tempvec = deepcopy(tempinitvec)\n",
    "    tempeval = deepcopy(initeigenval)\n",
    "    eigtracker.append(tempeval)\n",
    "    for j in range(niter):\n",
    "        try: \n",
    "            uninvmat = tempmat - np.dot(tempeval,identitymat)\n",
    "            invmat = np.linalg.inv(uninvmat)\n",
    "            newvec = np.dot(invmat,tempvec)\n",
    "            normnew = np.linalg.norm(newvec)\n",
    "            normedvec = newvec / normnew\n",
    "            btab = np.dot(np.conj(normedvec.T),np.dot(tempmat,normedvec))\n",
    "            btb = np.dot(np.conj(normedvec.T),normedvec)\n",
    "            neweval = btab / btb\n",
    "            tempeval = deepcopy(neweval[0][0])\n",
    "            tempvec = deepcopy(normedvec)\n",
    "            eigtracker.append(tempeval)\n",
    "        except:\n",
    "            continue\n",
    "    return eigtracker"
   ]
  },
  {
   "cell_type": "code",
   "execution_count": 14,
   "metadata": {},
   "outputs": [
    {
     "data": {
      "text/plain": [
       "[82,\n",
       " 80.00157770474516,\n",
       " 80.25399949462289,\n",
       " 74.3041112392389,\n",
       " 61.296797247913965,\n",
       " 54.56824423432511,\n",
       " 54.435026418016975,\n",
       " 54.43502574477557,\n",
       " 54.43502574477558,\n",
       " 54.43502574477558,\n",
       " 54.43502574477557,\n",
       " 54.43502574477559,\n",
       " 54.4350257447756,\n",
       " 54.43502574477559,\n",
       " 54.43502574477559,\n",
       " 54.43502574477559,\n",
       " 54.43502574477559,\n",
       " 54.43502574477557,\n",
       " 54.43502574477559,\n",
       " 54.43502574477559,\n",
       " 54.43502574477557]"
      ]
     },
     "execution_count": 14,
     "metadata": {},
     "output_type": "execute_result"
    }
   ],
   "source": [
    "rq(symmat,20,np.random.rand(10,1)*10 - 5,82)"
   ]
  },
  {
   "cell_type": "markdown",
   "metadata": {},
   "source": [
    "I could try to guess different ansatz eigenvecs to find all ten eigenvals, or I could just come up with an itterative way to find them all. I will try an iterative way. "
   ]
  },
  {
   "cell_type": "code",
   "execution_count": 15,
   "metadata": {},
   "outputs": [],
   "source": [
    "import math\n",
    "discoveredeigenval = []\n",
    "while len(discoveredeigenval) < 10: \n",
    "    eigenvalansatz = np.random.randint(-2000,2000)\n",
    "    rqeigval = rq(symmat,20,np.random.rand(10,1)*10 - 5,eigenvalansatz)[-1]\n",
    "    if len(discoveredeigenval) == 0:\n",
    "        discoveredeigenval.append(rqeigval)\n",
    "    else:\n",
    "        counter = 0 \n",
    "        for i in discoveredeigenval:\n",
    "            if math.isclose(i,rqeigval):\n",
    "                continue\n",
    "            else:\n",
    "                counter += 1\n",
    "        if counter == len(discoveredeigenval):\n",
    "            discoveredeigenval.append(rqeigval)"
   ]
  },
  {
   "cell_type": "code",
   "execution_count": 16,
   "metadata": {},
   "outputs": [
    {
     "data": {
      "text/plain": [
       "[113.57719673041241,\n",
       " -86.83753740362043,\n",
       " -34.15978827139466,\n",
       " 126.78580872526891,\n",
       " 54.43502574477559,\n",
       " 193.50634887495926,\n",
       " -109.9739873896832,\n",
       " 17.808251255302135,\n",
       " 980.6066373121855,\n",
       " -195.74795557820545]"
      ]
     },
     "execution_count": 16,
     "metadata": {},
     "output_type": "execute_result"
    }
   ],
   "source": [
    "discoveredeigenval"
   ]
  },
  {
   "cell_type": "code",
   "execution_count": 17,
   "metadata": {},
   "outputs": [
    {
     "data": {
      "text/plain": [
       "array([ 980.60663731, -195.74795558,  193.50634887,  126.78580873,\n",
       "        113.57719673, -109.97398739,  -86.8375374 ,  -34.15978827,\n",
       "         17.80825126,   54.43502574])"
      ]
     },
     "execution_count": 17,
     "metadata": {},
     "output_type": "execute_result"
    }
   ],
   "source": [
    "eigenvalist"
   ]
  },
  {
   "cell_type": "markdown",
   "metadata": {},
   "source": [
    "### the iterative method using Rayleigh Quotient iteration with random initial eigenvector and eigenvalue ansatz finds all ten eigenvalues! \n",
    "## visualizing error as a function of iterations"
   ]
  },
  {
   "cell_type": "code",
   "execution_count": 18,
   "metadata": {},
   "outputs": [],
   "source": [
    "eigtracker = rq(symmat,20,np.random.rand(10,1)*10 - 5,10000)"
   ]
  },
  {
   "cell_type": "code",
   "execution_count": 19,
   "metadata": {},
   "outputs": [],
   "source": [
    "errorlist = []\n",
    "for i in range(len(eigtracker)):\n",
    "    error = abs(eigtracker[i] - min(eigenvalist, key=lambda x:abs(x-eigtracker[i])))\n",
    "    errorlist.append(error)"
   ]
  },
  {
   "cell_type": "code",
   "execution_count": 20,
   "metadata": {},
   "outputs": [
    {
     "data": {
      "text/plain": [
       "[9019.393362687813,\n",
       " 4.903951296990712,\n",
       " 1.3583500200753065,\n",
       " 0.022127611040914985,\n",
       " 6.21570990233522e-08,\n",
       " 1.4210854715202004e-14,\n",
       " 4.263256414560601e-14,\n",
       " 1.4210854715202004e-14,\n",
       " 4.263256414560601e-14,\n",
       " 1.4210854715202004e-14,\n",
       " 4.263256414560601e-14,\n",
       " 1.4210854715202004e-14,\n",
       " 1.4210854715202004e-14,\n",
       " 5.684341886080802e-14,\n",
       " 2.842170943040401e-14,\n",
       " 4.263256414560601e-14,\n",
       " 1.4210854715202004e-14,\n",
       " 4.263256414560601e-14,\n",
       " 1.4210854715202004e-14,\n",
       " 1.4210854715202004e-14,\n",
       " 5.684341886080802e-14]"
      ]
     },
     "execution_count": 20,
     "metadata": {},
     "output_type": "execute_result"
    }
   ],
   "source": [
    "errorlist"
   ]
  },
  {
   "cell_type": "code",
   "execution_count": 21,
   "metadata": {},
   "outputs": [
    {
     "data": {
      "image/png": "[encoded data removed]",
      "text/plain": [
       "<Figure size 432x288 with 1 Axes>"
      ]
     },
     "metadata": {
      "needs_background": "light"
     },
     "output_type": "display_data"
    }
   ],
   "source": [
    "fig = plt.scatter(range(21),errorlist)\n",
    "ax = plt.gca()\n",
    "ax.set_yscale('log')"
   ]
  },
  {
   "cell_type": "markdown",
   "metadata": {},
   "source": [
    "## this method converges to ~10^-13 error after 5 itterations -- much quicker and more accurate than power iterations! "
   ]
  },
  {
   "cell_type": "markdown",
   "metadata": {},
   "source": [
    "## part d part 1 -- power iteration with nonsymmetric matrix"
   ]
  },
  {
   "cell_type": "code",
   "execution_count": 13,
   "metadata": {},
   "outputs": [],
   "source": [
    "notsym = np.random.randint(0,100,size=(10,10))"
   ]
  },
  {
   "cell_type": "code",
   "execution_count": 14,
   "metadata": {},
   "outputs": [
    {
     "data": {
      "text/plain": [
       "array([[71, 78, 81,  7, 13, 67, 38, 97, 59,  6],\n",
       "       [69, 63, 34, 38, 14, 73, 30, 21, 34, 20],\n",
       "       [40, 16, 13, 47, 97, 98, 54,  5, 85, 24],\n",
       "       [13, 87, 58, 18, 48, 61, 31, 35, 11,  9],\n",
       "       [14,  1, 50, 24, 57, 66, 93, 44, 34, 90],\n",
       "       [74, 12, 59, 33, 72, 69, 25, 98, 87, 72],\n",
       "       [47, 49, 24, 36, 61, 82, 68, 40,  3, 49],\n",
       "       [67, 71, 35,  4, 90, 41, 79, 80, 15, 81],\n",
       "       [ 4, 99, 32, 73, 28, 51, 26, 54, 25, 29],\n",
       "       [60, 89, 83, 84, 79, 20, 32, 92, 97, 11]])"
      ]
     },
     "execution_count": 14,
     "metadata": {},
     "output_type": "execute_result"
    }
   ],
   "source": [
    "notsym"
   ]
  },
  {
   "cell_type": "markdown",
   "metadata": {},
   "source": [
    "yep that is not symmetric at all "
   ]
  },
  {
   "cell_type": "code",
   "execution_count": 15,
   "metadata": {},
   "outputs": [],
   "source": [
    "eigenvalist,eigenveclist = np.linalg.eig(notsym)"
   ]
  },
  {
   "cell_type": "code",
   "execution_count": 16,
   "metadata": {},
   "outputs": [
    {
     "data": {
      "text/plain": [
       "array([497.88696194 +0.j        ,  81.09669791 +0.j        ,\n",
       "        58.64995336 +0.j        ,  17.9367897 +61.91291827j,\n",
       "        17.9367897 -61.91291827j, -77.61916909 +0.j        ,\n",
       "       -41.91156437+53.24478211j, -41.91156437-53.24478211j,\n",
       "       -18.53244738+41.27190146j, -18.53244738-41.27190146j])"
      ]
     },
     "execution_count": 16,
     "metadata": {},
     "output_type": "execute_result"
    }
   ],
   "source": [
    "eigenvalist"
   ]
  },
  {
   "cell_type": "markdown",
   "metadata": {},
   "source": [
    "yep some eigenvalues are complex"
   ]
  },
  {
   "cell_type": "code",
   "execution_count": 17,
   "metadata": {},
   "outputs": [],
   "source": [
    "listofest = power_iterating(notsym,10,20)"
   ]
  },
  {
   "cell_type": "code",
   "execution_count": 18,
   "metadata": {},
   "outputs": [
    {
     "data": {
      "text/plain": [
       "[array([[493.69693218]]),\n",
       " array([[497.0605424]]),\n",
       " array([[497.91987843]]),\n",
       " array([[497.89156619]]),\n",
       " array([[497.88616423]]),\n",
       " array([[497.88707207]]),\n",
       " array([[497.88695067]]),\n",
       " array([[497.88696002]]),\n",
       " array([[497.88696242]]),\n",
       " array([[497.88696192]]),\n",
       " array([[497.88696194]]),\n",
       " array([[497.88696194]]),\n",
       " array([[497.88696194]]),\n",
       " array([[497.88696194]]),\n",
       " array([[497.88696194]]),\n",
       " array([[497.88696194]]),\n",
       " array([[497.88696194]]),\n",
       " array([[497.88696194]]),\n",
       " array([[497.88696194]]),\n",
       " array([[497.88696194]])]"
      ]
     },
     "execution_count": 18,
     "metadata": {},
     "output_type": "execute_result"
    }
   ],
   "source": [
    "listofest"
   ]
  },
  {
   "cell_type": "markdown",
   "metadata": {},
   "source": [
    "it was still able to find the largest eigenvalue using power itterations with relative ease, but that also might be because the largest eigenvalue happened to be real. Let's visualize error as a function of iterations"
   ]
  },
  {
   "cell_type": "code",
   "execution_count": 19,
   "metadata": {},
   "outputs": [],
   "source": [
    "errorlist = []\n",
    "for i in range(len(listofest)):\n",
    "    error = abs(listofest[i] - eigenvalist[0])\n",
    "    errorlist.append(error)"
   ]
  },
  {
   "cell_type": "code",
   "execution_count": 20,
   "metadata": {},
   "outputs": [
    {
     "data": {
      "image/png": "[encoded data removed]",
      "text/plain": [
       "<Figure size 432x288 with 1 Axes>"
      ]
     },
     "metadata": {
      "needs_background": "light"
     },
     "output_type": "display_data"
    }
   ],
   "source": [
    "fig = plt.scatter(range(20),errorlist)\n",
    "ax = plt.gca()\n",
    "ax.set_yscale('log')"
   ]
  },
  {
   "cell_type": "markdown",
   "metadata": {},
   "source": [
    "This time it took about 15 iterations to converge past 10E-10, as opposed to ten for the symmetric matrix. Again, this might have been different if the largest eigenvalue was complex. "
   ]
  },
  {
   "cell_type": "markdown",
   "metadata": {},
   "source": [
    "## Part D part 2 -- Rayleigh Quotients with nonsymmetric matrix"
   ]
  },
  {
   "cell_type": "code",
   "execution_count": 21,
   "metadata": {},
   "outputs": [
    {
     "data": {
      "text/plain": [
       "[(-300-0.5j),\n",
       " (7.892535296032403-0.01682615003721574j),\n",
       " (19.52405297179189-0.02676039481434218j),\n",
       " (32.2745701041348-0.08529651337301829j),\n",
       " (5.202545293745038-0.16282381814665867j),\n",
       " (7.320144529713227-0.5226271904721813j),\n",
       " (20.318734933233117-1.000617483702607j),\n",
       " (53.18270784266268-2.5986238382562274j),\n",
       " (59.14737956042342+1.2469052416516533j),\n",
       " (58.63933650658775-0.010572410835250958j),\n",
       " (58.65005565014237-9.197325552889879e-05j),\n",
       " (58.64995336307242+6.572467015075746e-10j),\n",
       " (58.64995336313588+0j),\n",
       " (58.64995336313589+0j)]"
      ]
     },
     "execution_count": 21,
     "metadata": {},
     "output_type": "execute_result"
    }
   ],
   "source": [
    "rq(notsym,20,np.random.rand(10,1)*10 - 5,-300 -0.5j)"
   ]
  },
  {
   "cell_type": "markdown",
   "metadata": {},
   "source": [
    "My code is able to converge to at least one of the complex eigenvalues! Let's see if it's able to find all ten"
   ]
  },
  {
   "cell_type": "code",
   "execution_count": 23,
   "metadata": {},
   "outputs": [
    {
     "name": "stdout",
     "output_type": "stream",
     "text": [
      "(-18.53244738295779-41.27190146130647j)\n",
      "(-18.532447382957802+41.27190146130646j)\n",
      "(58.64995336313589+0j)\n",
      "(-77.61916909387291-1.77635683940025e-15j)\n",
      "(497.88696194188003+0j)\n",
      "(-41.91156437395852-53.244782112978044j)\n",
      "(17.93678969712936+61.91291826644245j)\n",
      "(-41.91156437395852+53.24478211297804j)\n",
      "(-19.466693608565684+0j)\n"
     ]
    }
   ],
   "source": [
    "import cmath\n",
    "import math\n",
    "discoveredeigenval = []\n",
    "while len(discoveredeigenval) < 10: \n",
    "    eigenvalansatz = np.random.randint(-2000,2000)\n",
    "    imeigvalansatz = np.random.randint(-2000,2000)\n",
    "    rqeigval = rq(notsym,20,np.random.rand(10,1)*10 - 5,complex(eigenvalansatz,imeigvalansatz))[-1]\n",
    "    if len(discoveredeigenval) == 0:\n",
    "        discoveredeigenval.append(rqeigval)\n",
    "    else:\n",
    "        counter = 0\n",
    "        if rqeigval.imag > 0.00001:\n",
    "            for i in discoveredeigenval:\n",
    "                if math.isclose(i.real,rqeigval.real) & math.isclose(i.imag,rqeigval.imag):\n",
    "                    continue\n",
    "                else:\n",
    "                    counter += 1\n",
    "        else:\n",
    "            for i in discoveredeigenval:\n",
    "                if math.isclose(i.real,rqeigval.real):\n",
    "                    continue\n",
    "                else:\n",
    "                    counter += 1\n",
    "        if counter == len(discoveredeigenval):\n",
    "            discoveredeigenval.append(rqeigval)\n",
    "            print(rqeigval)"
   ]
  },
  {
   "cell_type": "markdown",
   "metadata": {},
   "source": [
    "## I was able to get all eigenvalues! Let's see how the error as a function of iteration number works."
   ]
  },
  {
   "cell_type": "code",
   "execution_count": 25,
   "metadata": {},
   "outputs": [],
   "source": [
    "eigentracker = rq(notsym,20,np.random.rand(10,1)*10 - 5,complex(-50,50))"
   ]
  },
  {
   "cell_type": "code",
   "execution_count": 26,
   "metadata": {},
   "outputs": [
    {
     "data": {
      "text/plain": [
       "[(-50+50j),\n",
       " (-42.90883392131817+49.16426345489595j),\n",
       " (-41.67663161877528+53.05399172908752j),\n",
       " (-41.91245674300462+53.2464034906959j),\n",
       " (-41.91156429598013+53.24478222043153j),\n",
       " (-41.91156437395853+53.24478211297806j),\n",
       " (-41.911564373958505+53.24478211297804j),\n",
       " (-41.91156437395853+53.24478211297804j),\n",
       " (-41.91156437395853+53.24478211297805j),\n",
       " (-41.911564373958505+53.24478211297804j),\n",
       " (-41.91156437395851+53.24478211297803j),\n",
       " (-41.91156437395853+53.244782112978044j),\n",
       " (-41.91156437395852+53.24478211297806j),\n",
       " (-41.911564373958505+53.24478211297803j),\n",
       " (-41.91156437395851+53.244782112978044j),\n",
       " (-41.91156437395852+53.244782112978044j),\n",
       " (-41.91156437395853+53.24478211297806j),\n",
       " (-41.91156437395852+53.244782112978044j),\n",
       " (-41.911564373958534+53.244782112978044j),\n",
       " (-41.91156437395851+53.244782112978044j),\n",
       " (-41.91156437395852+53.244782112978044j)]"
      ]
     },
     "execution_count": 26,
     "metadata": {},
     "output_type": "execute_result"
    }
   ],
   "source": [
    "eigentracker"
   ]
  },
  {
   "cell_type": "markdown",
   "metadata": {},
   "source": [
    "I don't know how to plot 3D graphs with pyplot, but I can look at the imaginary and real parts separately"
   ]
  },
  {
   "cell_type": "code",
   "execution_count": 30,
   "metadata": {},
   "outputs": [],
   "source": [
    "errorlist = []\n",
    "for i in range(len(eigentracker)):\n",
    "    error = abs(eigentracker[i].real - eigenvalist[6].real)\n",
    "    errorlist.append(error)"
   ]
  },
  {
   "cell_type": "code",
   "execution_count": 31,
   "metadata": {},
   "outputs": [
    {
     "data": {
      "image/png": "[encoded data removed]",
      "text/plain": [
       "<Figure size 432x288 with 1 Axes>"
      ]
     },
     "metadata": {
      "needs_background": "light"
     },
     "output_type": "display_data"
    }
   ],
   "source": [
    "fig = plt.scatter(range(21),errorlist)\n",
    "ax = plt.gca()\n",
    "ax.set_yscale('log')"
   ]
  },
  {
   "cell_type": "markdown",
   "metadata": {},
   "source": [
    "real part converged in 5 steps! now testing imaginary"
   ]
  },
  {
   "cell_type": "code",
   "execution_count": 32,
   "metadata": {},
   "outputs": [
    {
     "data": {
      "image/png": "[encoded data removed]",
      "text/plain": [
       "<Figure size 432x288 with 1 Axes>"
      ]
     },
     "metadata": {
      "needs_background": "light"
     },
     "output_type": "display_data"
    }
   ],
   "source": [
    "errorlist = []\n",
    "for i in range(len(eigentracker)):\n",
    "    error = abs(eigentracker[i].imag - eigenvalist[6].imag)\n",
    "    errorlist.append(error)\n",
    "fig = plt.scatter(range(21),errorlist)\n",
    "ax = plt.gca()\n",
    "ax.set_ylim(1*10**-15,10)\n",
    "ax.set_yscale('log')"
   ]
  },
  {
   "cell_type": "markdown",
   "metadata": {},
   "source": [
    "Imaginary part also converges in around 6 steps!!"
   ]
  },
  {
   "cell_type": "markdown",
   "metadata": {},
   "source": [
    "# question 2 -- yale faces"
   ]
  },
  {
   "cell_type": "code",
   "execution_count": 33,
   "metadata": {},
   "outputs": [],
   "source": [
    "# importing packages and faces\n",
    "import os\n",
    "import re"
   ]
  },
  {
   "cell_type": "code",
   "execution_count": 34,
   "metadata": {},
   "outputs": [],
   "source": [
    "def read_pgm(filename, byteorder='>'):\n",
    "    \"\"\"Return image data from a raw PGM file as numpy array.\n",
    "\n",
    "    Format specification: http://netpbm.sourceforge.net/doc/pgm.html\n",
    "\n",
    "    \"\"\"\n",
    "    with open(filename, 'rb') as f:\n",
    "        buffer = f.read()\n",
    "    try:\n",
    "        header, width, height, maxval = re.search(\n",
    "            b\"(^P5\\s(?:\\s*#.*[\\r\\n])*\"\n",
    "            b\"(\\d+)\\s(?:\\s*#.*[\\r\\n])*\"\n",
    "            b\"(\\d+)\\s(?:\\s*#.*[\\r\\n])*\"\n",
    "            b\"(\\d+)\\s(?:\\s*#.*[\\r\\n]\\s)*)\", buffer).groups()\n",
    "    except AttributeError:\n",
    "        raise ValueError(\"Not a raw PGM file: '%s'\" % filename)\n",
    "    return np.frombuffer(buffer,\n",
    "                            dtype='u1' if int(maxval) < 256 else byteorder+'u2',\n",
    "                            count=int(width)*int(height),\n",
    "                            offset=len(header)\n",
    "                            ).reshape((int(height), int(width)))"
   ]
  },
  {
   "cell_type": "code",
   "execution_count": 35,
   "metadata": {},
   "outputs": [],
   "source": [
    "image = read_pgm(\"../CroppedYale/yaleB01/yaleB01_P00A+000E+00.pgm\", byteorder='<')"
   ]
  },
  {
   "cell_type": "code",
   "execution_count": 36,
   "metadata": {},
   "outputs": [],
   "source": [
    "templistofpixels = []\n",
    "for i in image:\n",
    "    for j in i:\n",
    "        templistofpixels.append(j)\n",
    "        \n",
    "bigmatrix = np.matrix([templistofpixels]).T"
   ]
  },
  {
   "cell_type": "code",
   "execution_count": 37,
   "metadata": {
    "scrolled": true
   },
   "outputs": [
    {
     "name": "stdout",
     "output_type": "stream",
     "text": [
      "yaleB38\n",
      "yaleB24\n",
      "yaleB30\n",
      "yaleB35\n",
      "yaleB15\n",
      "yaleB16\n",
      "yaleB19\n",
      "yaleB25\n",
      "yaleB18\n",
      "yaleB09\n",
      "yaleB27\n",
      "yaleB17\n",
      "yaleB21\n",
      "yaleB37\n",
      "yaleB05\n",
      "yaleB22\n",
      "yaleB33\n",
      "yaleB23\n",
      "yaleB04\n",
      "yaleB10\n",
      "yaleB06\n",
      "yaleB12\n",
      "yaleB32\n",
      "yaleB31\n",
      "yaleB28\n",
      "yaleB03\n",
      "yaleB08\n",
      "yaleB34\n",
      "yaleB39\n",
      "yaleB02\n",
      "yaleB01\n",
      "yaleB07\n",
      "yaleB11\n",
      "yaleB20\n",
      "yaleB26\n",
      "yaleB36\n",
      "yaleB13\n",
      "yaleB29\n"
     ]
    }
   ],
   "source": [
    "for i in os.listdir('../CroppedYale/'):\n",
    "    print(i)\n",
    "    for j in os.listdir('../CroppedYale/' + i):\n",
    "        try:\n",
    "            tempimage = read_pgm('../CroppedYale/' + i + '/' + j)\n",
    "            templistofpixels=[]\n",
    "            for k in tempimage:\n",
    "                for l in k:\n",
    "                    templistofpixels.append(l)\n",
    "            temparrayofpixels = np.matrix([templistofpixels]).T\n",
    "            bigmatrix = np.append(bigmatrix,temparrayofpixels,1)\n",
    "        except:\n",
    "            continue"
   ]
  },
  {
   "cell_type": "code",
   "execution_count": 38,
   "metadata": {},
   "outputs": [
    {
     "data": {
      "text/plain": [
       "(32256, 2428)"
      ]
     },
     "execution_count": 38,
     "metadata": {},
     "output_type": "execute_result"
    }
   ],
   "source": [
    "np.shape(bigmatrix)"
   ]
  },
  {
   "cell_type": "code",
   "execution_count": 67,
   "metadata": {},
   "outputs": [],
   "source": [
    "# redefining my power iteration matrix to give me back my val and vec\n",
    "\n",
    "def power_iterating2(mat,size,niter):\n",
    "    pieigvallist = []\n",
    "    #choosing my random initial vector\n",
    "    initvec = np.asarray(np.random.rand(size,1))\n",
    "    tempvec = np.asarray(deepcopy(initvec))\n",
    "    mat = np.asarray(mat)\n",
    "    # iterating \n",
    "    for i in range(niter):\n",
    "        newvecunnorm = np.dot(mat,tempvec)\n",
    "        normonewvec = np.linalg.norm(newvecunnorm)\n",
    "        tempvec = np.asarray(deepcopy(newvecunnorm / normonewvec))\n",
    "        eigval = np.dot(np.dot(tempvec.T, mat),tempvec)\n",
    "        pieigvallist.append(eigval)\n",
    "    return(tempvec)"
   ]
  },
  {
   "cell_type": "code",
   "execution_count": 40,
   "metadata": {},
   "outputs": [],
   "source": [
    "corrmatrix = np.matmul(bigmatrix.T,bigmatrix)"
   ]
  },
  {
   "cell_type": "code",
   "execution_count": 46,
   "metadata": {},
   "outputs": [],
   "source": [
    "corrmatrix = corrmatrix / 2428"
   ]
  },
  {
   "cell_type": "code",
   "execution_count": 69,
   "metadata": {},
   "outputs": [],
   "source": [
    "returnvec = power_iterating2(corrmatrix,2428,20)"
   ]
  },
  {
   "cell_type": "code",
   "execution_count": 71,
   "metadata": {},
   "outputs": [
    {
     "data": {
      "text/plain": [
       "(2428, 1)"
      ]
     },
     "execution_count": 71,
     "metadata": {},
     "output_type": "execute_result"
    }
   ],
   "source": [
    "np.shape(returnvec)"
   ]
  },
  {
   "cell_type": "markdown",
   "metadata": {},
   "source": [
    "now running an svd to compare "
   ]
  },
  {
   "cell_type": "code",
   "execution_count": 72,
   "metadata": {},
   "outputs": [],
   "source": [
    "u, s, vt = np.linalg.svd(corrmatrix)"
   ]
  },
  {
   "cell_type": "code",
   "execution_count": 79,
   "metadata": {},
   "outputs": [
    {
     "data": {
      "text/plain": [
       "matrix([[-0.02003964, -0.0204731 , -0.02062021, ..., -0.0205609 ,\n",
       "         -0.02011904, -0.0202476 ]])"
      ]
     },
     "execution_count": 79,
     "metadata": {},
     "output_type": "execute_result"
    }
   ],
   "source": [
    "u.T[0]"
   ]
  },
  {
   "cell_type": "code",
   "execution_count": 80,
   "metadata": {},
   "outputs": [
    {
     "data": {
      "text/plain": [
       "array([[0.02003964],\n",
       "       [0.0204731 ],\n",
       "       [0.02062021],\n",
       "       ...,\n",
       "       [0.0205609 ],\n",
       "       [0.02011904],\n",
       "       [0.0202476 ]])"
      ]
     },
     "execution_count": 80,
     "metadata": {},
     "output_type": "execute_result"
    }
   ],
   "source": [
    "returnvec"
   ]
  },
  {
   "cell_type": "markdown",
   "metadata": {},
   "source": [
    "these two look similar, (except for a sign change) so I will now see how similar they are"
   ]
  },
  {
   "cell_type": "code",
   "execution_count": 81,
   "metadata": {},
   "outputs": [
    {
     "data": {
      "text/plain": [
       "1.6331446793207287"
      ]
     },
     "execution_count": 81,
     "metadata": {},
     "output_type": "execute_result"
    }
   ],
   "source": [
    "np.linalg.norm(u.T[0] + returnvec)"
   ]
  },
  {
   "cell_type": "markdown",
   "metadata": {},
   "source": [
    "Cool! Now I can see how the error scales as I increase the number of iterations"
   ]
  },
  {
   "cell_type": "code",
   "execution_count": 84,
   "metadata": {},
   "outputs": [],
   "source": [
    "errorlist = []\n",
    "for i in range(20):\n",
    "    returnvec = power_iterating2(corrmatrix,2428,i)\n",
    "    errorlist.append(np.linalg.norm(u.T[0] + returnvec))\n"
   ]
  },
  {
   "cell_type": "code",
   "execution_count": 85,
   "metadata": {},
   "outputs": [
    {
     "data": {
      "text/plain": [
       "[1357.6322704729027,\n",
       " 1.6625852913193717,\n",
       " 1.6331428983834215,\n",
       " 1.6331448699860063,\n",
       " 1.6331446690409128,\n",
       " 1.6331446789188528,\n",
       " 1.6331446793154887,\n",
       " 1.6331446793204605,\n",
       " 1.6331446793207238,\n",
       " 1.6331446793207285,\n",
       " 1.6331446793207287,\n",
       " 1.6331446793207287,\n",
       " 1.6331446793207285,\n",
       " 1.6331446793207287,\n",
       " 1.6331446793207287,\n",
       " 1.6331446793207285,\n",
       " 1.6331446793207287,\n",
       " 1.6331446793207287,\n",
       " 1.6331446793207285,\n",
       " 1.6331446793207285]"
      ]
     },
     "execution_count": 85,
     "metadata": {},
     "output_type": "execute_result"
    }
   ],
   "source": [
    "errorlist"
   ]
  },
  {
   "cell_type": "markdown",
   "metadata": {},
   "source": [
    "After five iterations, the error no longer decreases. Interesting!"
   ]
  },
  {
   "cell_type": "markdown",
   "metadata": {},
   "source": [
    "## 2b -- generating a randomized SVD from my correlation matrix"
   ]
  },
  {
   "cell_type": "code",
   "execution_count": 86,
   "metadata": {},
   "outputs": [
    {
     "data": {
      "text/plain": [
       "matrix([[0.07042834, 0.05766063, 0.08113674, ..., 0.00988468, 0.07578254,\n",
       "         0.00411862],\n",
       "        [0.05766063, 0.10461285, 0.05518946, ..., 0.04530478, 0.05189456,\n",
       "         0.01400329],\n",
       "        [0.08113674, 0.05518946, 0.00453048, ..., 0.1029654 , 0.04118616,\n",
       "         0.09308072],\n",
       "        ...,\n",
       "        [0.00988468, 0.04530478, 0.1029654 , ..., 0.09019769, 0.02594728,\n",
       "         0.026771  ],\n",
       "        [0.07578254, 0.05189456, 0.04118616, ..., 0.02594728, 0.1029654 ,\n",
       "         0.08772652],\n",
       "        [0.00411862, 0.01400329, 0.09308072, ..., 0.026771  , 0.08772652,\n",
       "         0.03253707]])"
      ]
     },
     "execution_count": 86,
     "metadata": {},
     "output_type": "execute_result"
    }
   ],
   "source": [
    "corrmatrix"
   ]
  },
  {
   "cell_type": "markdown",
   "metadata": {},
   "source": [
    "starting from a correlation matrix, I will generate a Y matrix by multiplying my corrmatrix by a random matrix with the same number of rows as corrmatrix has columns"
   ]
  },
  {
   "cell_type": "code",
   "execution_count": 93,
   "metadata": {},
   "outputs": [],
   "source": [
    "omega = np.random.rand(2428,300)"
   ]
  },
  {
   "cell_type": "code",
   "execution_count": 94,
   "metadata": {},
   "outputs": [],
   "source": [
    "ymat = np.dot(corrmatrix,omega)"
   ]
  },
  {
   "cell_type": "code",
   "execution_count": 95,
   "metadata": {},
   "outputs": [
    {
     "data": {
      "text/plain": [
       "matrix([[63.25098844, 63.91446116, 62.53754764, ..., 64.06254256,\n",
       "         63.49103431, 60.81719721],\n",
       "        [64.64872661, 64.56803464, 63.78581989, ..., 64.76092577,\n",
       "         64.00653481, 61.88024438],\n",
       "        [65.3734738 , 65.07845732, 64.96888891, ..., 65.11844587,\n",
       "         64.89171437, 63.00316177],\n",
       "        ...,\n",
       "        [64.7680896 , 65.23289471, 63.95859641, ..., 64.96814357,\n",
       "         64.15100579, 61.99276986],\n",
       "        [63.83120974, 64.11043927, 62.49426998, ..., 62.5442743 ,\n",
       "         63.63134073, 60.74005958],\n",
       "        [63.53338426, 64.29350142, 63.0244225 , ..., 63.53559098,\n",
       "         63.34353057, 60.29546273]])"
      ]
     },
     "execution_count": 95,
     "metadata": {},
     "output_type": "execute_result"
    }
   ],
   "source": [
    "ymat"
   ]
  },
  {
   "cell_type": "markdown",
   "metadata": {},
   "source": [
    "Now I can run a qr decomp on ymat to get a Q I need "
   ]
  },
  {
   "cell_type": "code",
   "execution_count": 96,
   "metadata": {},
   "outputs": [],
   "source": [
    "q,r = np.linalg.qr(ymat)"
   ]
  },
  {
   "cell_type": "code",
   "execution_count": 103,
   "metadata": {},
   "outputs": [
    {
     "data": {
      "text/plain": [
       "matrix([[-2.00320822e-02,  1.26673919e-02,  7.22905139e-04, ...,\n",
       "         -3.70777142e-02,  6.72229217e-03, -2.77616819e-02],\n",
       "        [-2.04747568e-02, -1.14507866e-02, -7.27434922e-03, ...,\n",
       "          2.76307603e-04, -1.39847203e-02, -1.52931927e-02],\n",
       "        [-2.07042899e-02, -1.84411234e-02, -2.89598292e-02, ...,\n",
       "         -7.59130074e-04,  1.78099634e-03, -3.52424413e-02],\n",
       "        ...,\n",
       "        [-2.05125600e-02,  6.07191589e-03,  4.84749654e-05, ...,\n",
       "          2.33073702e-03, -2.65522724e-02, -5.52334635e-03],\n",
       "        [-2.02158428e-02,  2.33555647e-04,  1.75875583e-02, ...,\n",
       "          4.17708830e-02,  4.79651842e-03, -1.14782769e-02],\n",
       "        [-2.01215191e-02,  1.57360591e-02, -5.60056116e-03, ...,\n",
       "          1.06312427e-02, -1.21642437e-02,  2.54647581e-02]])"
      ]
     },
     "execution_count": 103,
     "metadata": {},
     "output_type": "execute_result"
    }
   ],
   "source": [
    "q"
   ]
  },
  {
   "cell_type": "code",
   "execution_count": 102,
   "metadata": {},
   "outputs": [
    {
     "data": {
      "text/plain": [
       "(2428, 300)"
      ]
     },
     "execution_count": 102,
     "metadata": {},
     "output_type": "execute_result"
    }
   ],
   "source": [
    "np.shape(ymat)"
   ]
  },
  {
   "cell_type": "markdown",
   "metadata": {},
   "source": [
    "by taking q.T and multiplying it by my original matrix, I can get matrix B. "
   ]
  },
  {
   "cell_type": "code",
   "execution_count": 104,
   "metadata": {},
   "outputs": [],
   "source": [
    "Bmat = np.dot(q.T,corrmatrix)"
   ]
  },
  {
   "cell_type": "code",
   "execution_count": 105,
   "metadata": {},
   "outputs": [
    {
     "data": {
      "text/plain": [
       "matrix([[-2.55377007e+00, -2.60917601e+00, -2.62750061e+00, ...,\n",
       "         -2.62055384e+00, -2.56413575e+00, -2.58030743e+00],\n",
       "        [ 2.50095483e-02, -4.91388786e-03,  3.60095627e-02, ...,\n",
       "         -2.15758500e-02,  5.52863086e-02, -1.34874946e-03],\n",
       "        [-4.09519721e-02,  5.11013368e-02, -8.32902108e-02, ...,\n",
       "          2.13154759e-02, -1.41778303e-02, -4.24173911e-02],\n",
       "        ...,\n",
       "        [ 5.96439239e-02, -3.69545356e-03,  1.10329320e-02, ...,\n",
       "          6.20034288e-02,  4.72657777e-02, -3.48882651e-03],\n",
       "        [ 7.72497222e-03,  4.56542653e-02,  4.79640309e-02, ...,\n",
       "          1.85820880e-02, -2.11846832e-03, -7.42884805e-02],\n",
       "        [-1.46232172e-02,  3.61749532e-03,  2.48067201e-02, ...,\n",
       "          1.01337058e-01, -3.56077245e-02, -3.74289103e-02]])"
      ]
     },
     "execution_count": 105,
     "metadata": {},
     "output_type": "execute_result"
    }
   ],
   "source": [
    "Bmat"
   ]
  },
  {
   "cell_type": "code",
   "execution_count": 106,
   "metadata": {},
   "outputs": [
    {
     "data": {
      "text/plain": [
       "(300, 2428)"
      ]
     },
     "execution_count": 106,
     "metadata": {},
     "output_type": "execute_result"
    }
   ],
   "source": [
    "np.shape(Bmat)"
   ]
  },
  {
   "cell_type": "markdown",
   "metadata": {},
   "source": [
    "Then I can run an SVD on my Bmat "
   ]
  },
  {
   "cell_type": "code",
   "execution_count": 107,
   "metadata": {},
   "outputs": [],
   "source": [
    "uprime,sigprime,vtprime = np.linalg.svd(Bmat)"
   ]
  },
  {
   "cell_type": "markdown",
   "metadata": {},
   "source": [
    "To compare these with my other "
   ]
  },
  {
   "cell_type": "code",
   "execution_count": 112,
   "metadata": {},
   "outputs": [
    {
     "data": {
      "text/plain": [
       "(300, 300)"
      ]
     },
     "execution_count": 112,
     "metadata": {},
     "output_type": "execute_result"
    }
   ],
   "source": [
    "np.shape(uprime)"
   ]
  },
  {
   "cell_type": "code",
   "execution_count": 113,
   "metadata": {},
   "outputs": [
    {
     "data": {
      "text/plain": [
       "(2428, 2428)"
      ]
     },
     "execution_count": 113,
     "metadata": {},
     "output_type": "execute_result"
    }
   ],
   "source": [
    "np.shape(u)"
   ]
  },
  {
   "cell_type": "markdown",
   "metadata": {},
   "source": [
    "Then, once multiplying these by q, I should get a matrix that I can compare to the SVD of the original correlation matrix. "
   ]
  },
  {
   "cell_type": "code",
   "execution_count": 117,
   "metadata": {},
   "outputs": [],
   "source": [
    "uest = np.dot(q,uprime)"
   ]
  },
  {
   "cell_type": "code",
   "execution_count": 119,
   "metadata": {},
   "outputs": [
    {
     "data": {
      "text/plain": [
       "(2428, 300)"
      ]
     },
     "execution_count": 119,
     "metadata": {},
     "output_type": "execute_result"
    }
   ],
   "source": [
    "np.shape(uest)"
   ]
  },
  {
   "cell_type": "markdown",
   "metadata": {},
   "source": [
    "Columns of uest should match up fairly well with columns of u"
   ]
  },
  {
   "cell_type": "code",
   "execution_count": 122,
   "metadata": {},
   "outputs": [
    {
     "data": {
      "text/plain": [
       "0.0003570756336662345"
      ]
     },
     "execution_count": 122,
     "metadata": {},
     "output_type": "execute_result"
    }
   ],
   "source": [
    "np.linalg.norm(uest.T[0] - u.T[0])"
   ]
  },
  {
   "cell_type": "markdown",
   "metadata": {},
   "source": [
    "Comparing to two columns that are not meant to represent the same mode"
   ]
  },
  {
   "cell_type": "code",
   "execution_count": 123,
   "metadata": {},
   "outputs": [
    {
     "data": {
      "text/plain": [
       "1.4142345001224501"
      ]
     },
     "execution_count": 123,
     "metadata": {},
     "output_type": "execute_result"
    }
   ],
   "source": [
    "np.linalg.norm(uest.T[0] - u.T[1])"
   ]
  },
  {
   "cell_type": "markdown",
   "metadata": {},
   "source": [
    "Therefore, uest.T[0] is an approximation of u.T[0] ! \n",
    "\n",
    "## Part 2c\n",
    "\n",
    "Let's see how changing the number of columns in omega changes the accuracy"
   ]
  },
  {
   "cell_type": "code",
   "execution_count": 134,
   "metadata": {},
   "outputs": [],
   "source": [
    "errorlist = []\n",
    "for i in range(120):\n",
    "    omega = np.random.rand(2428,i*10 + 1)\n",
    "    ymat = np.dot(corrmatrix,omega)\n",
    "    q,r = np.linalg.qr(ymat)\n",
    "    Bmat = np.dot(q.T,corrmatrix)\n",
    "    uprime,sigprime,vtprime = np.linalg.svd(Bmat)\n",
    "    uest = np.dot(q,uprime)\n",
    "    errorlist.append(np.linalg.norm(uest.T[0] - u.T[0]))"
   ]
  },
  {
   "cell_type": "code",
   "execution_count": 132,
   "metadata": {},
   "outputs": [
    {
     "data": {
      "image/png": "[encoded data removed]",
      "text/plain": [
       "<Figure size 432x288 with 1 Axes>"
      ]
     },
     "metadata": {
      "needs_background": "light"
     },
     "output_type": "display_data"
    }
   ],
   "source": [
    "plt.scatter(range(140),errorlist)\n",
    "\n",
    "ax = plt.gca()\n",
    "ax.set_yscale('log')"
   ]
  },
  {
   "cell_type": "markdown",
   "metadata": {},
   "source": [
    "As expected, increased dimension of omega lead to greater accuracy of the estimated columns of u! We can repeat this process for other columns of u."
   ]
  },
  {
   "cell_type": "code",
   "execution_count": 157,
   "metadata": {},
   "outputs": [
    {
     "name": "stdout",
     "output_type": "stream",
     "text": [
      "0\n",
      "10\n",
      "20\n",
      "30\n",
      "40\n",
      "50\n",
      "60\n",
      "70\n",
      "80\n",
      "90\n",
      "100\n",
      "110\n",
      "120\n",
      "130\n",
      "140\n"
     ]
    }
   ],
   "source": [
    "errorlist0 = []\n",
    "errorlist1 = []\n",
    "errorlist2 = []\n",
    "for i in range(150):\n",
    "    omega = np.random.rand(2428,i*10 + 5)\n",
    "    ymat = np.dot(corrmatrix,omega)\n",
    "    q,r = np.linalg.qr(ymat)\n",
    "    Bmat = np.dot(q.T,corrmatrix)\n",
    "    uprime,sigprime,vtprime = np.linalg.svd(Bmat)\n",
    "    uest = np.dot(q,uprime)\n",
    "    errorlist0.append(np.linalg.norm(uest.T[0] - u.T[0]))\n",
    "    errorlist1.append(np.linalg.norm(uest.T[1] - u.T[1]))\n",
    "    errorlist2.append(np.linalg.norm(uest.T[2] - u.T[2]))\n",
    "    if i % 10 == 0:\n",
    "        print(i)"
   ]
  },
  {
   "cell_type": "code",
   "execution_count": 158,
   "metadata": {},
   "outputs": [
    {
     "data": {
      "image/png": "[encoded data removed]",
      "text/plain": [
       "<Figure size 432x288 with 1 Axes>"
      ]
     },
     "metadata": {
      "needs_background": "light"
     },
     "output_type": "display_data"
    }
   ],
   "source": [
    "plt.scatter(range(150),errorlist0)\n",
    "ax = plt.gca()\n",
    "ax.set_yscale('log')"
   ]
  },
  {
   "cell_type": "code",
   "execution_count": 159,
   "metadata": {},
   "outputs": [
    {
     "data": {
      "image/png": "[encoded data removed]",
      "text/plain": [
       "<Figure size 432x288 with 1 Axes>"
      ]
     },
     "metadata": {
      "needs_background": "light"
     },
     "output_type": "display_data"
    }
   ],
   "source": [
    "plt.scatter(range(150),errorlist1)\n",
    "ax = plt.gca()\n",
    "ax.set_yscale('log')"
   ]
  },
  {
   "cell_type": "code",
   "execution_count": 160,
   "metadata": {},
   "outputs": [
    {
     "data": {
      "image/png": "[encoded data removed]",
      "text/plain": [
       "<Figure size 432x288 with 1 Axes>"
      ]
     },
     "metadata": {
      "needs_background": "light"
     },
     "output_type": "display_data"
    }
   ],
   "source": [
    "plt.scatter(range(150),errorlist2)\n",
    "ax = plt.gca()\n",
    "ax.set_yscale('log')"
   ]
  },
  {
   "cell_type": "markdown",
   "metadata": {},
   "source": [
    "As can be seen from these three examples, the first column of U decreases very obviously with increased columns of omega. The next two columns, having a much lower singular value, do not decrease as consistently -- though their running average may generally decrease with increased columns of omega. This is somewhat expected given that the first singular value is over ~50x greater than the second or third, which are relatively close in magnitude. \n",
    "\n",
    "Next we can visualize the singular values and their estimates"
   ]
  },
  {
   "cell_type": "code",
   "execution_count": 165,
   "metadata": {},
   "outputs": [
    {
     "data": {
      "image/png": "[encoded data removed]",
      "text/plain": [
       "<Figure size 432x288 with 1 Axes>"
      ]
     },
     "metadata": {
      "needs_background": "light"
     },
     "output_type": "display_data"
    }
   ],
   "source": [
    "plt.scatter(range(2428),s)\n",
    "ax = plt.gca()\n",
    "ax.set_yscale('log')\n",
    "#the full sigma matrix has one singular value around ~120,\n",
    "#and the rest of the singular values are less than 4. "
   ]
  },
  {
   "cell_type": "code",
   "execution_count": 168,
   "metadata": {},
   "outputs": [
    {
     "data": {
      "image/png": "[encoded data removed]",
      "text/plain": [
       "<Figure size 432x288 with 1 Axes>"
      ]
     },
     "metadata": {
      "needs_background": "light"
     },
     "output_type": "display_data"
    }
   ],
   "source": [
    "plt.scatter(range(1495),sigprime)\n",
    "ax = plt.gca()\n",
    "ax.set_yscale('log')\n",
    "#the estimated sigma matrix has one singular value around ~120,\n",
    "#and the rest of the singular values are less than 4. \n",
    "#however, there are less singular values for the estimated sigma\n",
    "#matrix than there are for the full sigma matrix. "
   ]
  },
  {
   "cell_type": "markdown",
   "metadata": {},
   "source": [
    "We can define an error with this, and see how the error changes with varying columns of omega"
   ]
  },
  {
   "cell_type": "code",
   "execution_count": 178,
   "metadata": {},
   "outputs": [
    {
     "name": "stdout",
     "output_type": "stream",
     "text": [
      "0\n",
      "10\n",
      "20\n",
      "30\n",
      "40\n",
      "50\n",
      "60\n",
      "70\n",
      "80\n",
      "90\n",
      "100\n",
      "110\n"
     ]
    }
   ],
   "source": [
    "sigerrorlist = []\n",
    "for i in range(120):\n",
    "    omega = np.random.rand(2428,i*10 + 5)\n",
    "    ymat = np.dot(corrmatrix,omega)\n",
    "    q,r = np.linalg.qr(ymat)\n",
    "    Bmat = np.dot(q.T,corrmatrix)\n",
    "    uprime,sigprime,vtprime = np.linalg.svd(Bmat)\n",
    "    j = len(sigprime)\n",
    "    sigerrorlist.append(np.linalg.norm(s[:j] - sigprime) / j)\n",
    "    if i % 10 == 0:\n",
    "        print(i)"
   ]
  },
  {
   "cell_type": "code",
   "execution_count": 180,
   "metadata": {},
   "outputs": [
    {
     "data": {
      "text/plain": [
       "<matplotlib.collections.PathCollection at 0x7fb5c07b1c90>"
      ]
     },
     "execution_count": 180,
     "metadata": {},
     "output_type": "execute_result"
    },
    {
     "data": {
      "image/png": "[encoded data removed]",
      "text/plain": [
       "<Figure size 432x288 with 1 Axes>"
      ]
     },
     "metadata": {
      "needs_background": "light"
     },
     "output_type": "display_data"
    }
   ],
   "source": [
    "plt.scatter(range(len(sigerrorlist)),sigerrorlist)"
   ]
  },
  {
   "cell_type": "markdown",
   "metadata": {},
   "source": [
    "Error in the sigma-matrix decreases with increased columns of omega! The end"
   ]
  },
  {
   "cell_type": "code",
   "execution_count": null,
   "metadata": {},
   "outputs": [],
   "source": []
  }
 ],
 "metadata": {
  "kernelspec": {
   "display_name": "Python 3",
   "language": "python",
   "name": "python3"
  },
  "language_info": {
   "codemirror_mode": {
    "name": "ipython",
    "version": 3
   },
   "file_extension": ".py",
   "mimetype": "text/x-python",
   "name": "python",
   "nbconvert_exporter": "python",
   "pygments_lexer": "ipython3",
   "version": "3.7.7"
  }
 },
 "nbformat": 4,
 "nbformat_minor": 4
}
