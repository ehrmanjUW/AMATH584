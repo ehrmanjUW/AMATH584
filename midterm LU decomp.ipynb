{
 "cells": [
  {
   "cell_type": "markdown",
   "metadata": {},
   "source": [
    "In this notebook, I am going to write an LU decomposition algorithm. Written by Jordan Ehrman, Nov 6th 2020. "
   ]
  },
  {
   "cell_type": "code",
   "execution_count": 36,
   "metadata": {},
   "outputs": [],
   "source": [
    "import numpy as np \n",
    "from copy import deepcopy"
   ]
  },
  {
   "cell_type": "code",
   "execution_count": 56,
   "metadata": {},
   "outputs": [],
   "source": [
    "testmat = np.random.rand(5,5)"
   ]
  },
  {
   "cell_type": "code",
   "execution_count": 82,
   "metadata": {},
   "outputs": [
    {
     "data": {
      "text/plain": [
       "array([[0.13053584, 0.22240024, 0.05663956, 0.42365499, 0.2563159 ],\n",
       "       [0.98522742, 0.18128525, 0.60483977, 0.27436262, 0.77830831],\n",
       "       [0.25232466, 0.88872072, 0.74594817, 0.15359958, 0.9956002 ],\n",
       "       [0.74710112, 0.52519887, 0.56575797, 0.16913854, 0.19932893],\n",
       "       [0.35317592, 0.10162126, 0.83147115, 0.90756459, 0.38763804]])"
      ]
     },
     "execution_count": 82,
     "metadata": {},
     "output_type": "execute_result"
    }
   ],
   "source": [
    "testmat"
   ]
  },
  {
   "cell_type": "markdown",
   "metadata": {},
   "source": [
    "Starting off with some scratch space on my testmat"
   ]
  },
  {
   "cell_type": "code",
   "execution_count": 86,
   "metadata": {},
   "outputs": [
    {
     "name": "stdout",
     "output_type": "stream",
     "text": [
      "1\n",
      "[[0. 1. 0. 0. 0.]\n",
      " [1. 0. 0. 0. 0.]\n",
      " [0. 0. 1. 0. 0.]\n",
      " [0. 0. 0. 1. 0.]\n",
      " [0. 0. 0. 0. 1.]]\n",
      "2\n",
      "[[1. 0. 0. 0. 0.]\n",
      " [0. 0. 1. 0. 0.]\n",
      " [0. 1. 0. 0. 0.]\n",
      " [0. 0. 0. 1. 0.]\n",
      " [0. 0. 0. 0. 1.]]\n",
      "4\n",
      "[[1. 0. 0. 0. 0.]\n",
      " [0. 1. 0. 0. 0.]\n",
      " [0. 0. 0. 0. 1.]\n",
      " [0. 0. 0. 1. 0.]\n",
      " [0. 0. 1. 0. 0.]]\n",
      "4\n",
      "[[1. 0. 0. 0. 0.]\n",
      " [0. 1. 0. 0. 0.]\n",
      " [0. 0. 1. 0. 0.]\n",
      " [0. 0. 0. 0. 1.]\n",
      " [0. 0. 0. 1. 0.]]\n",
      "4\n",
      "[[1. 0. 0. 0. 0.]\n",
      " [0. 1. 0. 0. 0.]\n",
      " [0. 0. 1. 0. 0.]\n",
      " [0. 0. 0. 1. 0.]\n",
      " [0. 0. 0. 0. 1.]]\n"
     ]
    }
   ],
   "source": [
    "dummytestmat = deepcopy(testmat)\n",
    "rows,columns = np.shape(dummytestmat)\n",
    "I = np.eye(rows,columns)\n",
    "listofP = []\n",
    "for column in range(columns):\n",
    "    rowmax = np.argmax(dummytestmat[column:,column])+column\n",
    "    print(rowmax)\n",
    "    tempP = deepcopy(I)\n",
    "    tempP[column,:] = I[rowmax,:]\n",
    "    tempP[rowmax,:] = I[column,:]\n",
    "    print(tempP)\n",
    "    listofP.append(deepcopy(tempP))\n",
    "    dummytestmat = tempP.dot(dummytestmat)"
   ]
  },
  {
   "cell_type": "code",
   "execution_count": 101,
   "metadata": {},
   "outputs": [
    {
     "name": "stdout",
     "output_type": "stream",
     "text": [
      "3\n",
      "2\n",
      "1\n",
      "0\n"
     ]
    }
   ],
   "source": [
    "totP = listofP[columns-1]\n",
    "for i in range(columns-2,-1,-1):\n",
    "    print(i)\n",
    "    totP = totP.dot(listofP[i])"
   ]
  },
  {
   "cell_type": "code",
   "execution_count": 103,
   "metadata": {},
   "outputs": [
    {
     "data": {
      "text/plain": [
       "array([[0.98522742, 0.18128525, 0.60483977, 0.27436262, 0.77830831],\n",
       "       [0.25232466, 0.88872072, 0.74594817, 0.15359958, 0.9956002 ],\n",
       "       [0.35317592, 0.10162126, 0.83147115, 0.90756459, 0.38763804],\n",
       "       [0.13053584, 0.22240024, 0.05663956, 0.42365499, 0.2563159 ],\n",
       "       [0.74710112, 0.52519887, 0.56575797, 0.16913854, 0.19932893]])"
      ]
     },
     "execution_count": 103,
     "metadata": {},
     "output_type": "execute_result"
    }
   ],
   "source": [
    "totP.dot(testmat)"
   ]
  },
  {
   "cell_type": "markdown",
   "metadata": {},
   "source": [
    "That's how I get the permutation matrix! Let me define it as a function to use later. "
   ]
  },
  {
   "cell_type": "code",
   "execution_count": 106,
   "metadata": {},
   "outputs": [],
   "source": [
    "def findP(testmat):\n",
    "    dummytestmat = deepcopy(testmat)\n",
    "    rows,columns = np.shape(dummytestmat)\n",
    "    I = np.eye(rows,columns)\n",
    "    listofP = []\n",
    "    for column in range(columns):\n",
    "        rowmax = np.argmax(dummytestmat[column:,column])+column\n",
    "        tempP = deepcopy(I)\n",
    "        tempP[column,:] = I[rowmax,:]\n",
    "        tempP[rowmax,:] = I[column,:]\n",
    "        listofP.append(deepcopy(tempP))\n",
    "        dummytestmat = tempP.dot(dummytestmat)\n",
    "    totP = listofP[columns-1]\n",
    "    for i in range(columns-2,-1,-1):\n",
    "        totP = totP.dot(listofP[i])\n",
    "    return totP"
   ]
  },
  {
   "cell_type": "code",
   "execution_count": 107,
   "metadata": {},
   "outputs": [
    {
     "data": {
      "text/plain": [
       "array([[0.98522742, 0.18128525, 0.60483977, 0.27436262, 0.77830831],\n",
       "       [0.25232466, 0.88872072, 0.74594817, 0.15359958, 0.9956002 ],\n",
       "       [0.35317592, 0.10162126, 0.83147115, 0.90756459, 0.38763804],\n",
       "       [0.13053584, 0.22240024, 0.05663956, 0.42365499, 0.2563159 ],\n",
       "       [0.74710112, 0.52519887, 0.56575797, 0.16913854, 0.19932893]])"
      ]
     },
     "execution_count": 107,
     "metadata": {},
     "output_type": "execute_result"
    }
   ],
   "source": [
    "testP = findP(testmat)\n",
    "testP.dot(testmat)"
   ]
  },
  {
   "cell_type": "markdown",
   "metadata": {},
   "source": [
    "# Perfect! Moving on to LUD"
   ]
  },
  {
   "cell_type": "code",
   "execution_count": 215,
   "metadata": {},
   "outputs": [],
   "source": [
    "newtestmat = deepcopy(testP.dot(testmat))"
   ]
  },
  {
   "cell_type": "code",
   "execution_count": 216,
   "metadata": {},
   "outputs": [
    {
     "name": "stdout",
     "output_type": "stream",
     "text": [
      "[[ 0.98522742  0.18128525  0.60483977  0.27436262  0.77830831]\n",
      " [ 0.          0.84229211  0.59104384  0.08333311  0.79626919]\n",
      " [ 0.          0.03663567  0.61465335  0.80921341  0.10863672]\n",
      " [ 0.          0.19838119 -0.02349754  0.38730383  0.15319541]\n",
      " [ 0.          0.38772968  0.10710603 -0.03891151 -0.39086476]]\n",
      "[[ 0.98522742  0.18128525  0.60483977  0.27436262  0.77830831]\n",
      " [ 0.          0.84229211  0.59104384  0.08333311  0.79626919]\n",
      " [ 0.          0.          0.58894577  0.80558882  0.07400283]\n",
      " [ 0.          0.         -0.16270338  0.36767677 -0.03434621]\n",
      " [ 0.          0.         -0.16496733 -0.07727198 -0.75740885]]\n",
      "[[ 0.98522742  0.18128525  0.60483977  0.27436262  0.77830831]\n",
      " [ 0.          0.84229211  0.59104384  0.08333311  0.79626919]\n",
      " [ 0.          0.          0.58894577  0.80558882  0.07400283]\n",
      " [ 0.          0.          0.          0.5902304  -0.01390204]\n",
      " [ 0.          0.          0.          0.1483784  -0.73668021]]\n",
      "[[ 0.98522742  0.18128525  0.60483977  0.27436262  0.77830831]\n",
      " [ 0.          0.84229211  0.59104384  0.08333311  0.79626919]\n",
      " [ 0.          0.          0.58894577  0.80558882  0.07400283]\n",
      " [ 0.          0.          0.          0.5902304  -0.01390204]\n",
      " [ 0.          0.          0.          0.         -0.73318536]]\n",
      "[[ 0.98522742  0.18128525  0.60483977  0.27436262  0.77830831]\n",
      " [ 0.          0.84229211  0.59104384  0.08333311  0.79626919]\n",
      " [ 0.          0.          0.58894577  0.80558882  0.07400283]\n",
      " [ 0.          0.          0.          0.5902304  -0.01390204]\n",
      " [ 0.          0.          0.          0.         -0.73318536]]\n"
     ]
    }
   ],
   "source": [
    "dummytestmat = deepcopy(newtestmat)\n",
    "rows,columns = np.shape(newtestmat)\n",
    "listofl = []\n",
    "listoflinvs = []\n",
    "I = np.eye(rows,columns)\n",
    "for column in range(columns):\n",
    "    tempL = deepcopy(I)\n",
    "    tempLinv = deepcopy(I)\n",
    "    for row in range(rows-column-1):\n",
    "        tempL[row+1+column,column] = dummytestmat[row+1+column,column] / dummytestmat[column,column]\n",
    "        tempLinv[row+1+column,column] = - dummytestmat[row+1+column,column] / dummytestmat[column,column]\n",
    "    listofl.append(deepcopy(tempL))\n",
    "    listoflinvs.append(deepcopy(tempLinv))\n",
    "    dummytestmat = tempLinv.dot(dummytestmat)\n",
    "    print(dummytestmat)"
   ]
  },
  {
   "cell_type": "code",
   "execution_count": 217,
   "metadata": {},
   "outputs": [
    {
     "name": "stdout",
     "output_type": "stream",
     "text": [
      "[[1.         0.         0.         0.         0.        ]\n",
      " [0.25610804 1.         0.         0.         0.        ]\n",
      " [0.35847147 0.0434952  1.         0.         0.        ]\n",
      " [0.13249311 0.2355254  0.         1.         0.        ]\n",
      " [0.75830321 0.46032686 0.         0.         1.        ]]\n",
      "[[ 1.          0.          0.          0.          0.        ]\n",
      " [ 0.25610804  1.          0.          0.          0.        ]\n",
      " [ 0.35847147  0.0434952   1.          0.          0.        ]\n",
      " [ 0.13249311  0.2355254  -0.27626207  1.          0.        ]\n",
      " [ 0.75830321  0.46032686 -0.28010614  0.          1.        ]]\n",
      "[[ 1.          0.          0.          0.          0.        ]\n",
      " [ 0.25610804  1.          0.          0.          0.        ]\n",
      " [ 0.35847147  0.0434952   1.          0.          0.        ]\n",
      " [ 0.13249311  0.2355254  -0.27626207  1.          0.        ]\n",
      " [ 0.75830321  0.46032686 -0.28010614  0.25139063  1.        ]]\n",
      "[[ 1.          0.          0.          0.          0.        ]\n",
      " [ 0.          1.          0.          0.          0.        ]\n",
      " [ 0.          0.          1.          0.          0.        ]\n",
      " [ 0.          0.          0.          1.          0.        ]\n",
      " [ 0.          0.          0.         -0.25139063  1.        ]]\n",
      "[[ 1.          0.          0.          0.          0.        ]\n",
      " [ 0.          1.          0.          0.          0.        ]\n",
      " [ 0.          0.          1.          0.          0.        ]\n",
      " [ 0.          0.          0.27626207  1.          0.        ]\n",
      " [ 0.          0.          0.21065644 -0.25139063  1.        ]]\n",
      "[[ 1.          0.          0.          0.          0.        ]\n",
      " [ 0.          1.          0.          0.          0.        ]\n",
      " [ 0.         -0.0434952   1.          0.          0.        ]\n",
      " [ 0.         -0.24754148  0.27626207  1.          0.        ]\n",
      " [ 0.         -0.41028052  0.21065644 -0.25139063  1.        ]]\n",
      "[[ 1.          0.          0.          0.          0.        ]\n",
      " [-0.25610804  1.          0.          0.          0.        ]\n",
      " [-0.347332   -0.0434952   1.          0.          0.        ]\n",
      " [-0.16812781 -0.24754148  0.27626207  1.          0.        ]\n",
      " [-0.69543387 -0.41028052  0.21065644 -0.25139063  1.        ]]\n"
     ]
    }
   ],
   "source": [
    "totL = listofl[0]\n",
    "for i in range(columns-2):\n",
    "    totL = totL.dot(listofl[i+1])\n",
    "    print(totL)\n",
    "totLinv = listoflinvs[len(listoflinvs) - 1]\n",
    "for i in range(columns-2,-1,-1):\n",
    "    totLinv = totLinv.dot(listoflinvs[i])\n",
    "    print(totLinv)"
   ]
  },
  {
   "cell_type": "code",
   "execution_count": 218,
   "metadata": {},
   "outputs": [
    {
     "data": {
      "text/plain": [
       "array([[ 9.85227419e-01,  1.81285246e-01,  6.04839767e-01,\n",
       "         2.74362616e-01,  7.78308311e-01],\n",
       "       [ 0.00000000e+00,  8.42292114e-01,  5.91043840e-01,\n",
       "         8.33331094e-02,  7.96269186e-01],\n",
       "       [-5.55111512e-17,  0.00000000e+00,  5.88945774e-01,\n",
       "         8.05588824e-01,  7.40028277e-02],\n",
       "       [ 0.00000000e+00,  2.77555756e-17,  0.00000000e+00,\n",
       "         5.90230405e-01, -1.39020368e-02],\n",
       "       [ 0.00000000e+00,  0.00000000e+00,  1.11022302e-16,\n",
       "         5.55111512e-17, -7.33185364e-01]])"
      ]
     },
     "execution_count": 218,
     "metadata": {},
     "output_type": "execute_result"
    }
   ],
   "source": [
    "testU = np.matmul(totLinv,newtestmat)\n",
    "testU"
   ]
  },
  {
   "cell_type": "code",
   "execution_count": 219,
   "metadata": {},
   "outputs": [
    {
     "data": {
      "text/plain": [
       "2.0848191647991828e-32"
      ]
     },
     "execution_count": 219,
     "metadata": {},
     "output_type": "execute_result"
    }
   ],
   "source": [
    "np.sum((totL.dot(testU) - testP.dot(testmat)) ** 2)"
   ]
  },
  {
   "cell_type": "markdown",
   "metadata": {},
   "source": [
    "# IT WORKED\n",
    "## let's make it into a function"
   ]
  },
  {
   "cell_type": "code",
   "execution_count": 222,
   "metadata": {},
   "outputs": [],
   "source": [
    "def LUdecomp(matrix):\n",
    "    dummytestmat = deepcopy(matrix)\n",
    "    rows,columns = np.shape(matrix)\n",
    "    listofl = []\n",
    "    listoflinvs = []\n",
    "    I = np.eye(rows,columns)\n",
    "    for column in range(columns):\n",
    "        tempL = deepcopy(I)\n",
    "        tempLinv = deepcopy(I)\n",
    "        for row in range(rows-column-1):\n",
    "            tempL[row+1+column,column] = dummytestmat[row+1+column,column] / dummytestmat[column,column]\n",
    "            tempLinv[row+1+column,column] = - dummytestmat[row+1+column,column] / dummytestmat[column,column]\n",
    "        listofl.append(deepcopy(tempL))\n",
    "        listoflinvs.append(deepcopy(tempLinv))\n",
    "        dummytestmat = tempLinv.dot(dummytestmat)\n",
    "    totL = listofl[0]\n",
    "    for i in range(columns-2):\n",
    "        totL = totL.dot(listofl[i+1])\n",
    "    totLinv = listoflinvs[len(listoflinvs) - 1]\n",
    "    for i in range(columns-2,-1,-1):\n",
    "        totLinv = totLinv.dot(listoflinvs[i])\n",
    "    testU = np.matmul(totLinv,matrix)\n",
    "    return(totL, testU)"
   ]
  },
  {
   "cell_type": "markdown",
   "metadata": {},
   "source": [
    "# Let's make sure it all works for a larger matrix"
   ]
  },
  {
   "cell_type": "code",
   "execution_count": 231,
   "metadata": {},
   "outputs": [],
   "source": [
    "def alltogethernow(matrix):\n",
    "    P = findP(matrix)\n",
    "    newmat = P.dot(matrix)\n",
    "    L, U = LUdecomp(newmat)\n",
    "    print(\"here's the error:\",np.sum((L.dot(U)-P.dot(matrix))**2))"
   ]
  },
  {
   "cell_type": "code",
   "execution_count": 232,
   "metadata": {},
   "outputs": [
    {
     "name": "stdout",
     "output_type": "stream",
     "text": [
      "here's the error: 3.159680666761699e-30\n"
     ]
    }
   ],
   "source": [
    "testmat = np.random.rand(10,10)\n",
    "alltogethernow(testmat)"
   ]
  },
  {
   "cell_type": "code",
   "execution_count": 233,
   "metadata": {},
   "outputs": [
    {
     "name": "stdout",
     "output_type": "stream",
     "text": [
      "here's the error: 2.2080064829655245e-18\n"
     ]
    }
   ],
   "source": [
    "testmat = np.random.rand(100,100)\n",
    "alltogethernow(testmat)"
   ]
  },
  {
   "cell_type": "code",
   "execution_count": 235,
   "metadata": {},
   "outputs": [
    {
     "name": "stdout",
     "output_type": "stream",
     "text": [
      "here's the error: 7.330885550835756e-17\n"
     ]
    }
   ],
   "source": [
    "testmat = np.random.rand(200,200)\n",
    "alltogethernow(testmat)"
   ]
  },
  {
   "cell_type": "code",
   "execution_count": 236,
   "metadata": {},
   "outputs": [
    {
     "name": "stdout",
     "output_type": "stream",
     "text": [
      "here's the error: 9.474118009349769e-15\n"
     ]
    }
   ],
   "source": [
    "testmat = np.random.rand(300,300)\n",
    "alltogethernow(testmat)"
   ]
  },
  {
   "cell_type": "code",
   "execution_count": 237,
   "metadata": {},
   "outputs": [
    {
     "name": "stdout",
     "output_type": "stream",
     "text": [
      "here's the error: 1.930335669575305e-13\n"
     ]
    }
   ],
   "source": [
    "testmat = np.random.rand(400,400)\n",
    "alltogethernow(testmat)"
   ]
  },
  {
   "cell_type": "markdown",
   "metadata": {},
   "source": [
    "# that's pretty neat! \n",
    "I don't know how I would've done this in less than two hours though lol the coding alone took 4. "
   ]
  },
  {
   "cell_type": "code",
   "execution_count": null,
   "metadata": {},
   "outputs": [],
   "source": []
  }
 ],
 "metadata": {
  "kernelspec": {
   "display_name": "Python 3",
   "language": "python",
   "name": "python3"
  },
  "language_info": {
   "codemirror_mode": {
    "name": "ipython",
    "version": 3
   },
   "file_extension": ".py",
   "mimetype": "text/x-python",
   "name": "python",
   "nbconvert_exporter": "python",
   "pygments_lexer": "ipython3",
   "version": "3.7.7"
  }
 },
 "nbformat": 4,
 "nbformat_minor": 4
}
